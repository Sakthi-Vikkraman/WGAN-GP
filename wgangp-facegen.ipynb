{
 "cells": [
  {
   "cell_type": "code",
   "execution_count": 1,
   "id": "6f346342",
   "metadata": {
    "execution": {
     "iopub.execute_input": "2025-06-08T17:36:30.802566Z",
     "iopub.status.busy": "2025-06-08T17:36:30.801705Z",
     "iopub.status.idle": "2025-06-08T17:36:46.753123Z",
     "shell.execute_reply": "2025-06-08T17:36:46.752316Z"
    },
    "id": "CHOqucW6jyW8",
    "outputId": "7291832e-b83e-405a-c234-bb2dcdf9ea53",
    "papermill": {
     "duration": 15.958559,
     "end_time": "2025-06-08T17:36:46.754661",
     "exception": false,
     "start_time": "2025-06-08T17:36:30.796102",
     "status": "completed"
    },
    "tags": []
   },
   "outputs": [
    {
     "name": "stderr",
     "output_type": "stream",
     "text": [
      "2025-06-08 17:36:32.527998: E external/local_xla/xla/stream_executor/cuda/cuda_fft.cc:477] Unable to register cuFFT factory: Attempting to register factory for plugin cuFFT when one has already been registered\n",
      "WARNING: All log messages before absl::InitializeLog() is called are written to STDERR\n",
      "E0000 00:00:1749404192.717365      19 cuda_dnn.cc:8310] Unable to register cuDNN factory: Attempting to register factory for plugin cuDNN when one has already been registered\n",
      "E0000 00:00:1749404192.774384      19 cuda_blas.cc:1418] Unable to register cuBLAS factory: Attempting to register factory for plugin cuBLAS when one has already been registered\n"
     ]
    }
   ],
   "source": [
    "import matplotlib.pyplot as plt\n",
    "import numpy as np\n",
    "import tensorflow as tf\n",
    "import os\n",
    "import time\n",
    "from IPython import display\n",
    "from tensorflow import keras\n",
    "from tensorflow.keras import layers,mixed_precision\n",
    "tf.__version__\n",
    "mixed_precision.set_global_policy('mixed_float16')\n"
   ]
  },
  {
   "cell_type": "code",
   "execution_count": 2,
   "id": "3ce7f2fd",
   "metadata": {
    "execution": {
     "iopub.execute_input": "2025-06-08T17:36:46.763374Z",
     "iopub.status.busy": "2025-06-08T17:36:46.762929Z",
     "iopub.status.idle": "2025-06-08T17:37:34.473614Z",
     "shell.execute_reply": "2025-06-08T17:37:34.472773Z"
    },
    "id": "Ar62Zd2DtXIh",
    "outputId": "4c0239b6-cd86-4a33-b5cb-20df680fa2e4",
    "papermill": {
     "duration": 47.716816,
     "end_time": "2025-06-08T17:37:34.475458",
     "exception": false,
     "start_time": "2025-06-08T17:36:46.758642",
     "status": "completed"
    },
    "tags": []
   },
   "outputs": [
    {
     "name": "stderr",
     "output_type": "stream",
     "text": [
      "100%|██████████| 10000/10000 [00:46<00:00, 214.83it/s]\n"
     ]
    }
   ],
   "source": [
    "import pandas as pd\n",
    "import numpy as np\n",
    "from tensorflow.keras.preprocessing.image import load_img, img_to_array\n",
    "from sklearn.model_selection import train_test_split\n",
    "from tqdm import tqdm  # progress bar\n",
    "\n",
    "# Load attributes\n",
    "attr_df = pd.read_csv(\"/kaggle/input/celeba-dataset/list_attr_celeba.csv\")\n",
    "attr_df.rename(columns={'Unnamed: 0': 'image_id'}, inplace=True)\n",
    "\n",
    "# Optional: use only one attribute (e.g., Smiling)\n",
    "attr_df['Smiling'] = attr_df['Smiling'].apply(lambda x: 1 if x == 1 else 0)\n",
    "\n",
    "# Load first N images\n",
    "image_dir = \"/kaggle/input/celeba-dataset/img_align_celeba/img_align_celeba\"\n",
    "image_size = (64, 64)\n",
    "n_images = 10000\n",
    "\n",
    "X, y = [], []\n",
    "\n",
    "for idx, row in tqdm(attr_df.iterrows(), total=n_images):\n",
    "    if idx >= n_images:\n",
    "        break\n",
    "    img_path = os.path.join(image_dir, row['image_id'])\n",
    "    img = load_img(img_path, target_size=image_size)\n",
    "    img_array = img_to_array(img) / 255.0\n",
    "    X.append(img_array)\n",
    "    y.append(row['Smiling'])\n",
    "\n",
    "X = np.array(X)\n",
    "y = np.array(y)\n"
   ]
  },
  {
   "cell_type": "code",
   "execution_count": 3,
   "id": "2a3d8fc3",
   "metadata": {
    "execution": {
     "iopub.execute_input": "2025-06-08T17:37:34.525761Z",
     "iopub.status.busy": "2025-06-08T17:37:34.524960Z",
     "iopub.status.idle": "2025-06-08T17:37:34.645819Z",
     "shell.execute_reply": "2025-06-08T17:37:34.644983Z"
    },
    "id": "8ow9RdpRwyTA",
    "papermill": {
     "duration": 0.144448,
     "end_time": "2025-06-08T17:37:34.647394",
     "exception": false,
     "start_time": "2025-06-08T17:37:34.502946",
     "status": "completed"
    },
    "tags": []
   },
   "outputs": [],
   "source": [
    "X_train, X_test, y_train, y_test = train_test_split(X, y, test_size=0.2, random_state=42)"
   ]
  },
  {
   "cell_type": "code",
   "execution_count": 4,
   "id": "c9b0380f",
   "metadata": {
    "execution": {
     "iopub.execute_input": "2025-06-08T17:37:34.690629Z",
     "iopub.status.busy": "2025-06-08T17:37:34.690309Z",
     "iopub.status.idle": "2025-06-08T17:37:34.695984Z",
     "shell.execute_reply": "2025-06-08T17:37:34.695287Z"
    },
    "id": "hbY9AWzpGWgQ",
    "outputId": "35b7281f-3ad4-4a63-8672-1d40a4462ed5",
    "papermill": {
     "duration": 0.02791,
     "end_time": "2025-06-08T17:37:34.697213",
     "exception": false,
     "start_time": "2025-06-08T17:37:34.669303",
     "status": "completed"
    },
    "tags": []
   },
   "outputs": [
    {
     "data": {
      "text/plain": [
       "((8000, 64, 64, 3), (8000,))"
      ]
     },
     "execution_count": 4,
     "metadata": {},
     "output_type": "execute_result"
    }
   ],
   "source": [
    "X_train.shape, y_train.shape"
   ]
  },
  {
   "cell_type": "code",
   "execution_count": 5,
   "id": "324c37ef",
   "metadata": {
    "execution": {
     "iopub.execute_input": "2025-06-08T17:37:34.747798Z",
     "iopub.status.busy": "2025-06-08T17:37:34.747082Z",
     "iopub.status.idle": "2025-06-08T17:37:36.886960Z",
     "shell.execute_reply": "2025-06-08T17:37:36.886291Z"
    },
    "id": "lNp_NT-LGbVm",
    "papermill": {
     "duration": 2.16186,
     "end_time": "2025-06-08T17:37:36.888410",
     "exception": false,
     "start_time": "2025-06-08T17:37:34.726550",
     "status": "completed"
    },
    "tags": []
   },
   "outputs": [
    {
     "name": "stderr",
     "output_type": "stream",
     "text": [
      "I0000 00:00:1749404256.033200      19 gpu_device.cc:2022] Created device /job:localhost/replica:0/task:0/device:GPU:0 with 15513 MB memory:  -> device: 0, name: Tesla P100-PCIE-16GB, pci bus id: 0000:00:04.0, compute capability: 6.0\n"
     ]
    }
   ],
   "source": [
    "buffer_size = 60000\n",
    "batch_size = 32\n",
    "X_train = tf.data.Dataset.from_tensor_slices(X_train).shuffle(buffer_size).batch(batch_size)"
   ]
  },
  {
   "cell_type": "code",
   "execution_count": 6,
   "id": "09592917",
   "metadata": {
    "execution": {
     "iopub.execute_input": "2025-06-08T17:37:36.930007Z",
     "iopub.status.busy": "2025-06-08T17:37:36.929275Z",
     "iopub.status.idle": "2025-06-08T17:37:36.933049Z",
     "shell.execute_reply": "2025-06-08T17:37:36.932524Z"
    },
    "id": "98OPvtDEGnxT",
    "papermill": {
     "duration": 0.025405,
     "end_time": "2025-06-08T17:37:36.934138",
     "exception": false,
     "start_time": "2025-06-08T17:37:36.908733",
     "status": "completed"
    },
    "tags": []
   },
   "outputs": [],
   "source": [
    "# import tensorflow as tf\n",
    "# from tensorflow.keras import layers\n",
    "\n",
    "# def build_generator():\n",
    "#     network = tf.keras.Sequential()\n",
    "\n",
    "#     # Dense layer to expand input noise into 4x4x512\n",
    "#     network.add(layers.Dense(units=4*4*512, use_bias=False, input_shape=(100,)))\n",
    "#     network.add(layers.BatchNormalization())\n",
    "#     network.add(layers.LeakyReLU())\n",
    "\n",
    "#     network.add(layers.Reshape((4, 4, 512)))  # Shape: 4x4x512\n",
    "\n",
    "#     # Upsample to 8x8x256\n",
    "#     network.add(layers.Conv2DTranspose(256, (5, 5), strides=(2, 2), padding='same', use_bias=False))\n",
    "#     network.add(layers.BatchNormalization())\n",
    "#     network.add(layers.LeakyReLU())\n",
    "\n",
    "#     # Upsample to 16x16x128\n",
    "#     network.add(layers.Conv2DTranspose(128, (5, 5), strides=(2, 2), padding='same', use_bias=False))\n",
    "#     network.add(layers.BatchNormalization())\n",
    "#     network.add(layers.LeakyReLU())\n",
    "\n",
    "#     # Upsample to 32x32x64\n",
    "#     network.add(layers.Conv2DTranspose(64, (5, 5), strides=(2, 2), padding='same', use_bias=False))\n",
    "#     network.add(layers.BatchNormalization())\n",
    "#     network.add(layers.LeakyReLU())\n",
    "\n",
    "#     # Upsample to 64x64x32\n",
    "#     network.add(layers.Conv2DTranspose(32, (5, 5), strides=(2, 2), padding='same', use_bias=False))\n",
    "#     network.add(layers.BatchNormalization())\n",
    "#     network.add(layers.LeakyReLU())\n",
    "\n",
    "#     # Final output layer: 64x64x3\n",
    "#     network.add(layers.Conv2DTranspose(3, (5, 5), strides=(1, 1), padding='same', use_bias=True, activation='tanh'))\n",
    "\n",
    "#     network.summary()\n",
    "#     return network\n"
   ]
  },
  {
   "cell_type": "code",
   "execution_count": 7,
   "id": "bf1534c5",
   "metadata": {
    "execution": {
     "iopub.execute_input": "2025-06-08T17:37:36.974936Z",
     "iopub.status.busy": "2025-06-08T17:37:36.974671Z",
     "iopub.status.idle": "2025-06-08T17:37:36.982393Z",
     "shell.execute_reply": "2025-06-08T17:37:36.981692Z"
    },
    "papermill": {
     "duration": 0.029657,
     "end_time": "2025-06-08T17:37:36.983634",
     "exception": false,
     "start_time": "2025-06-08T17:37:36.953977",
     "status": "completed"
    },
    "tags": []
   },
   "outputs": [],
   "source": [
    "import tensorflow as tf\n",
    "from tensorflow.keras import layers\n",
    "\n",
    "def resnet_generator_block(x, filters):\n",
    "    \"\"\"A basic residual block with upsampling.\"\"\"\n",
    "    shortcut = layers.UpSampling2D()(x)\n",
    "    shortcut = layers.Conv2D(filters, kernel_size=1, padding='same')(shortcut)\n",
    "\n",
    "    x = layers.UpSampling2D()(x)\n",
    "    x = layers.Conv2D(filters, kernel_size=3, padding='same')(x)\n",
    "    x = layers.BatchNormalization()(x)\n",
    "    x = layers.ReLU()(x)\n",
    "\n",
    "    x = layers.Conv2D(filters, kernel_size=3, padding='same')(x)\n",
    "    x = layers.BatchNormalization()(x)\n",
    "\n",
    "    x = layers.add([x, shortcut])\n",
    "    x = layers.ReLU()(x)\n",
    "    return x\n",
    "\n",
    "def build_resnet_generator():\n",
    "    noise = tf.keras.Input(shape=(100,), dtype=tf.float32)\n",
    "\n",
    "    x = layers.Dense(4*4*512, use_bias=False, dtype='float32')(noise)\n",
    "    x = layers.BatchNormalization()(x)\n",
    "    x = layers.ReLU()(x)\n",
    "    x = layers.Reshape((4, 4, 512))(x)\n",
    "\n",
    "    x = resnet_generator_block(x, 256)  # 8x8\n",
    "    x = resnet_generator_block(x, 128)  # 16x16\n",
    "    x = resnet_generator_block(x, 64)   # 32x32\n",
    "    x = resnet_generator_block(x, 32)   # 64x64\n",
    "\n",
    "    # Final output layer (float16)\n",
    "    x = layers.Conv2D(3, (3, 3), padding='same', activation='tanh', dtype='float16')(x)\n",
    "\n",
    "    # Cast to float32 before output to prevent dtype mismatch in training\n",
    "    x = tf.keras.layers.Lambda(lambda y: tf.cast(y, tf.float32))(x)\n",
    "\n",
    "    model = tf.keras.Model(inputs=noise, outputs=x, name=\"ResNet_Generator_64x64\")\n",
    "    return model\n",
    "\n"
   ]
  },
  {
   "cell_type": "code",
   "execution_count": 8,
   "id": "8e1d9122",
   "metadata": {
    "execution": {
     "iopub.execute_input": "2025-06-08T17:37:37.024810Z",
     "iopub.status.busy": "2025-06-08T17:37:37.024135Z",
     "iopub.status.idle": "2025-06-08T17:37:37.027439Z",
     "shell.execute_reply": "2025-06-08T17:37:37.026911Z"
    },
    "id": "6KvcjQLJGtwU",
    "outputId": "23bf9594-d11e-4bc9-9acc-ce373e3fa216",
    "papermill": {
     "duration": 0.024905,
     "end_time": "2025-06-08T17:37:37.028494",
     "exception": false,
     "start_time": "2025-06-08T17:37:37.003589",
     "status": "completed"
    },
    "tags": []
   },
   "outputs": [],
   "source": [
    "# generator = build_generator()"
   ]
  },
  {
   "cell_type": "code",
   "execution_count": 9,
   "id": "0bce02a8",
   "metadata": {
    "execution": {
     "iopub.execute_input": "2025-06-08T17:37:37.122089Z",
     "iopub.status.busy": "2025-06-08T17:37:37.121448Z",
     "iopub.status.idle": "2025-06-08T17:37:38.458999Z",
     "shell.execute_reply": "2025-06-08T17:37:38.458445Z"
    },
    "papermill": {
     "duration": 1.4121,
     "end_time": "2025-06-08T17:37:38.460290",
     "exception": false,
     "start_time": "2025-06-08T17:37:37.048190",
     "status": "completed"
    },
    "tags": []
   },
   "outputs": [],
   "source": [
    "generator = build_resnet_generator()"
   ]
  },
  {
   "cell_type": "code",
   "execution_count": 10,
   "id": "c0b9627d",
   "metadata": {
    "execution": {
     "iopub.execute_input": "2025-06-08T17:37:38.501799Z",
     "iopub.status.busy": "2025-06-08T17:37:38.501206Z",
     "iopub.status.idle": "2025-06-08T17:37:38.509371Z",
     "shell.execute_reply": "2025-06-08T17:37:38.508781Z"
    },
    "id": "oKPRgeIrGuG2",
    "outputId": "f2d01802-d31e-49f6-a135-f05226f0a11e",
    "papermill": {
     "duration": 0.030169,
     "end_time": "2025-06-08T17:37:38.510551",
     "exception": false,
     "start_time": "2025-06-08T17:37:38.480382",
     "status": "completed"
    },
    "tags": []
   },
   "outputs": [
    {
     "data": {
      "text/plain": [
       "<tf.Tensor: shape=(1, 100), dtype=float32, numpy=\n",
       "array([[-0.00761253,  1.5558976 ,  0.05669872, -0.22533676,  0.3221828 ,\n",
       "        -1.1924845 , -1.6133066 , -0.35700566,  0.21660233, -0.3855419 ,\n",
       "        -0.4394075 ,  0.62900007, -0.4500189 ,  0.41653538, -0.7160257 ,\n",
       "        -1.1955792 , -0.45906356,  0.30332747, -1.215533  , -0.47569415,\n",
       "        -1.8304847 ,  0.47170293, -0.6150924 ,  0.35557863,  0.01741086,\n",
       "        -0.31439155, -0.37597352,  0.378807  ,  0.50571024,  0.12086084,\n",
       "        -1.3000442 , -1.8813255 , -0.81358254, -0.17941773,  0.6027243 ,\n",
       "         0.37194738,  0.08312378, -0.13862008,  1.2198973 ,  0.21102947,\n",
       "        -0.09083768, -0.40415883,  0.48386633,  1.8372993 , -1.018425  ,\n",
       "         0.8997626 ,  1.3590287 , -1.0440844 , -1.5948688 , -0.00647485,\n",
       "        -1.5435736 ,  0.8009686 , -0.43521023,  0.7246697 , -0.8210615 ,\n",
       "         0.39085263, -0.65052986,  1.1157547 , -1.1353374 , -0.8125846 ,\n",
       "        -0.17534484,  0.74953073, -1.0119069 ,  0.32209763,  0.67396635,\n",
       "         1.4750775 , -0.6557529 , -0.8014765 ,  0.9985217 ,  0.1119008 ,\n",
       "        -0.35191533,  2.10315   , -0.26557684, -0.2975557 , -0.13701937,\n",
       "         1.0712022 , -0.9137142 , -1.3926815 , -1.2774119 , -0.64921933,\n",
       "         0.7041104 ,  1.183261  ,  0.3330111 ,  0.9049432 , -1.618302  ,\n",
       "        -0.08978505, -0.37406313,  0.3081235 ,  1.4566269 , -1.456801  ,\n",
       "        -1.2327422 , -0.7160285 ,  0.17338602,  0.2177708 ,  1.5831071 ,\n",
       "         1.0396265 , -2.3873315 ,  0.7178436 , -1.8251445 ,  1.9006    ]],\n",
       "      dtype=float32)>"
      ]
     },
     "execution_count": 10,
     "metadata": {},
     "output_type": "execute_result"
    }
   ],
   "source": [
    "noise = tf.random.normal([1, 100])\n",
    "noise"
   ]
  },
  {
   "cell_type": "code",
   "execution_count": 11,
   "id": "926def75",
   "metadata": {
    "execution": {
     "iopub.execute_input": "2025-06-08T17:37:38.551678Z",
     "iopub.status.busy": "2025-06-08T17:37:38.551106Z",
     "iopub.status.idle": "2025-06-08T17:37:39.783844Z",
     "shell.execute_reply": "2025-06-08T17:37:39.783227Z"
    },
    "id": "iYv2P2X9RKhD",
    "outputId": "177c05ac-cb6f-4145-c37c-3f6668b55f2d",
    "papermill": {
     "duration": 1.254373,
     "end_time": "2025-06-08T17:37:39.785044",
     "exception": false,
     "start_time": "2025-06-08T17:37:38.530671",
     "status": "completed"
    },
    "tags": []
   },
   "outputs": [
    {
     "name": "stderr",
     "output_type": "stream",
     "text": [
      "I0000 00:00:1749404258.845889      19 cuda_dnn.cc:529] Loaded cuDNN version 90300\n"
     ]
    },
    {
     "data": {
      "text/plain": [
       "(-0.5, 63.5, 63.5, -0.5)"
      ]
     },
     "execution_count": 11,
     "metadata": {},
     "output_type": "execute_result"
    },
    {
     "data": {
      "image/png": "[encoded data removed]",
      "text/plain": [
       "<Figure size 640x480 with 1 Axes>"
      ]
     },
     "metadata": {},
     "output_type": "display_data"
    }
   ],
   "source": [
    "generated_image = generator(noise, training = False)\n",
    "plt.imshow((generated_image[0] + 1) / 2.0)  # Rescale from [-1, 1] to [0, 1]\n",
    "plt.axis(\"off\")\n"
   ]
  },
  {
   "cell_type": "code",
   "execution_count": 12,
   "id": "24879b92",
   "metadata": {
    "execution": {
     "iopub.execute_input": "2025-06-08T17:37:39.828044Z",
     "iopub.status.busy": "2025-06-08T17:37:39.827801Z",
     "iopub.status.idle": "2025-06-08T17:37:39.831382Z",
     "shell.execute_reply": "2025-06-08T17:37:39.830827Z"
    },
    "id": "valZweZTOF74",
    "papermill": {
     "duration": 0.026605,
     "end_time": "2025-06-08T17:37:39.832392",
     "exception": false,
     "start_time": "2025-06-08T17:37:39.805787",
     "status": "completed"
    },
    "tags": []
   },
   "outputs": [],
   "source": [
    "# def build_discriminator():\n",
    "#     network = tf.keras.Sequential()\n",
    "\n",
    "#     # Input: 64x64x3 → 32x32x64\n",
    "#     network.add(layers.Conv2D(64, (5, 5), strides=(2, 2), padding='same', input_shape=[64, 64, 3]))\n",
    "#     network.add(layers.LeakyReLU())\n",
    "#     network.add(layers.Dropout(0.3))\n",
    "\n",
    "#     # 32x32x64 → 16x16x128\n",
    "#     network.add(layers.Conv2D(128, (5, 5), strides=(2, 2), padding='same'))\n",
    "#     network.add(layers.LeakyReLU())\n",
    "#     network.add(layers.Dropout(0.3))\n",
    "\n",
    "#     # 16x16x128 → 8x8x256\n",
    "#     network.add(layers.Conv2D(256, (5, 5), strides=(2, 2), padding='same'))\n",
    "#     network.add(layers.LeakyReLU())\n",
    "#     network.add(layers.Dropout(0.3))\n",
    "\n",
    "#     # 8x8x256 → 4x4x512\n",
    "#     network.add(layers.Conv2D(512, (5, 5), strides=(2, 2), padding='same'))\n",
    "#     network.add(layers.LeakyReLU())\n",
    "#     network.add(layers.Dropout(0.3))\n",
    "\n",
    "#     # Flatten and output a single score (real or fake)\n",
    "#     network.add(layers.Flatten())\n",
    "#     network.add(layers.Dense(1))\n",
    "\n",
    "#     network.summary()\n",
    "#     return network"
   ]
  },
  {
   "cell_type": "code",
   "execution_count": 13,
   "id": "596f20e1",
   "metadata": {
    "execution": {
     "iopub.execute_input": "2025-06-08T17:37:39.875067Z",
     "iopub.status.busy": "2025-06-08T17:37:39.874807Z",
     "iopub.status.idle": "2025-06-08T17:37:39.880075Z",
     "shell.execute_reply": "2025-06-08T17:37:39.879545Z"
    },
    "papermill": {
     "duration": 0.027602,
     "end_time": "2025-06-08T17:37:39.881046",
     "exception": false,
     "start_time": "2025-06-08T17:37:39.853444",
     "status": "completed"
    },
    "tags": []
   },
   "outputs": [],
   "source": [
    "def resnet_discriminator_block(x, filters, downsample=True):\n",
    "    initializer = tf.random_normal_initializer(0., 0.02)\n",
    "    res = x\n",
    "\n",
    "    # First conv layer\n",
    "    x = layers.Conv2D(filters, kernel_size=3, strides=1, padding='same', kernel_initializer=initializer)(x)\n",
    "    x = layers.LeakyReLU(0.2)(x)\n",
    "\n",
    "    # Second conv layer\n",
    "    x = layers.Conv2D(filters, kernel_size=3, strides=1, padding='same', kernel_initializer=initializer)(x)\n",
    "\n",
    "    # Downsample both paths\n",
    "    if downsample:\n",
    "        x = layers.AveragePooling2D(pool_size=(2, 2))(x)\n",
    "        res = layers.Conv2D(filters, kernel_size=1, strides=1, padding='same', kernel_initializer=initializer)(res)\n",
    "        res = layers.AveragePooling2D(pool_size=(2, 2))(res)\n",
    "\n",
    "    # Add skip connection\n",
    "    x = layers.add([x, res])\n",
    "    x = layers.LeakyReLU(0.2)(x)\n",
    "    return x\n"
   ]
  },
  {
   "cell_type": "code",
   "execution_count": 14,
   "id": "8d66db61",
   "metadata": {
    "execution": {
     "iopub.execute_input": "2025-06-08T17:37:39.923561Z",
     "iopub.status.busy": "2025-06-08T17:37:39.922780Z",
     "iopub.status.idle": "2025-06-08T17:37:39.927747Z",
     "shell.execute_reply": "2025-06-08T17:37:39.927206Z"
    },
    "papermill": {
     "duration": 0.027086,
     "end_time": "2025-06-08T17:37:39.928755",
     "exception": false,
     "start_time": "2025-06-08T17:37:39.901669",
     "status": "completed"
    },
    "tags": []
   },
   "outputs": [],
   "source": [
    "def build_resnet_discriminator():\n",
    "    input_img = tf.keras.Input(shape=(64, 64, 3))\n",
    "\n",
    "    x = layers.Conv2D(64, kernel_size=3, strides=1, padding='same')(input_img)\n",
    "    x = layers.LeakyReLU(0.2)(x)\n",
    "\n",
    "    # ResNet blocks with downsampling\n",
    "    x = resnet_discriminator_block(x, 128)   # 32x32\n",
    "    x = resnet_discriminator_block(x, 256)   # 16x16\n",
    "    x = resnet_discriminator_block(x, 512)   # 8x8\n",
    "    x = resnet_discriminator_block(x, 512)   # 4x4\n",
    "\n",
    "    x = layers.GlobalAveragePooling2D()(x)\n",
    "    x = layers.Dense(1,dtype='float32')(x)  # Single scalar output (critic score)\n",
    "\n",
    "    model = tf.keras.Model(inputs=input_img, outputs=x, name=\"ResNet_Discriminator\")\n",
    "    model.summary()\n",
    "    return model\n"
   ]
  },
  {
   "cell_type": "code",
   "execution_count": 15,
   "id": "67c3b30b",
   "metadata": {
    "execution": {
     "iopub.execute_input": "2025-06-08T17:37:39.971911Z",
     "iopub.status.busy": "2025-06-08T17:37:39.971212Z",
     "iopub.status.idle": "2025-06-08T17:37:39.974681Z",
     "shell.execute_reply": "2025-06-08T17:37:39.973964Z"
    },
    "papermill": {
     "duration": 0.026318,
     "end_time": "2025-06-08T17:37:39.975779",
     "exception": false,
     "start_time": "2025-06-08T17:37:39.949461",
     "status": "completed"
    },
    "tags": []
   },
   "outputs": [],
   "source": [
    "# discriminator = build_discriminator()"
   ]
  },
  {
   "cell_type": "code",
   "execution_count": 16,
   "id": "4c65a4d2",
   "metadata": {
    "execution": {
     "iopub.execute_input": "2025-06-08T17:37:40.018311Z",
     "iopub.status.busy": "2025-06-08T17:37:40.018037Z",
     "iopub.status.idle": "2025-06-08T17:37:40.148816Z",
     "shell.execute_reply": "2025-06-08T17:37:40.148055Z"
    },
    "id": "GwgNDqIWOHvp",
    "outputId": "c2f9cf9e-0e62-421c-abd5-b98857e43056",
    "papermill": {
     "duration": 0.154065,
     "end_time": "2025-06-08T17:37:40.150369",
     "exception": false,
     "start_time": "2025-06-08T17:37:39.996304",
     "status": "completed"
    },
    "tags": []
   },
   "outputs": [
    {
     "data": {
      "text/html": [
       "<pre style=\"white-space:pre;overflow-x:auto;line-height:normal;font-family:Menlo,'DejaVu Sans Mono',consolas,'Courier New',monospace\"><span style=\"font-weight: bold\">Model: \"ResNet_Discriminator\"</span>\n",
       "</pre>\n"
      ],
      "text/plain": [
       "\u001b[1mModel: \"ResNet_Discriminator\"\u001b[0m\n"
      ]
     },
     "metadata": {},
     "output_type": "display_data"
    },
    {
     "data": {
      "text/html": [
       "<pre style=\"white-space:pre;overflow-x:auto;line-height:normal;font-family:Menlo,'DejaVu Sans Mono',consolas,'Courier New',monospace\">┏━━━━━━━━━━━━━━━━━━━━━━━━━━━┳━━━━━━━━━━━━━━━━━━━━━━━━┳━━━━━━━━━━━━━━━━┳━━━━━━━━━━━━━━━━━━━━━━━━┓\n",
       "┃<span style=\"font-weight: bold\"> Layer (type)              </span>┃<span style=\"font-weight: bold\"> Output Shape           </span>┃<span style=\"font-weight: bold\">        Param # </span>┃<span style=\"font-weight: bold\"> Connected to           </span>┃\n",
       "┡━━━━━━━━━━━━━━━━━━━━━━━━━━━╇━━━━━━━━━━━━━━━━━━━━━━━━╇━━━━━━━━━━━━━━━━╇━━━━━━━━━━━━━━━━━━━━━━━━┩\n",
       "│ input_layer_1             │ (<span style=\"color: #00d7ff; text-decoration-color: #00d7ff\">None</span>, <span style=\"color: #00af00; text-decoration-color: #00af00\">64</span>, <span style=\"color: #00af00; text-decoration-color: #00af00\">64</span>, <span style=\"color: #00af00; text-decoration-color: #00af00\">3</span>)      │              <span style=\"color: #00af00; text-decoration-color: #00af00\">0</span> │ -                      │\n",
       "│ (<span style=\"color: #0087ff; text-decoration-color: #0087ff\">InputLayer</span>)              │                        │                │                        │\n",
       "├───────────────────────────┼────────────────────────┼────────────────┼────────────────────────┤\n",
       "│ cast_1 (<span style=\"color: #0087ff; text-decoration-color: #0087ff\">Cast</span>)             │ (<span style=\"color: #00d7ff; text-decoration-color: #00d7ff\">None</span>, <span style=\"color: #00af00; text-decoration-color: #00af00\">64</span>, <span style=\"color: #00af00; text-decoration-color: #00af00\">64</span>, <span style=\"color: #00af00; text-decoration-color: #00af00\">3</span>)      │              <span style=\"color: #00af00; text-decoration-color: #00af00\">0</span> │ input_layer_1[<span style=\"color: #00af00; text-decoration-color: #00af00\">0</span>][<span style=\"color: #00af00; text-decoration-color: #00af00\">0</span>]    │\n",
       "├───────────────────────────┼────────────────────────┼────────────────┼────────────────────────┤\n",
       "│ conv2d_13 (<span style=\"color: #0087ff; text-decoration-color: #0087ff\">Conv2D</span>)        │ (<span style=\"color: #00d7ff; text-decoration-color: #00d7ff\">None</span>, <span style=\"color: #00af00; text-decoration-color: #00af00\">64</span>, <span style=\"color: #00af00; text-decoration-color: #00af00\">64</span>, <span style=\"color: #00af00; text-decoration-color: #00af00\">64</span>)     │          <span style=\"color: #00af00; text-decoration-color: #00af00\">1,792</span> │ cast_1[<span style=\"color: #00af00; text-decoration-color: #00af00\">0</span>][<span style=\"color: #00af00; text-decoration-color: #00af00\">0</span>]           │\n",
       "├───────────────────────────┼────────────────────────┼────────────────┼────────────────────────┤\n",
       "│ leaky_re_lu (<span style=\"color: #0087ff; text-decoration-color: #0087ff\">LeakyReLU</span>)   │ (<span style=\"color: #00d7ff; text-decoration-color: #00d7ff\">None</span>, <span style=\"color: #00af00; text-decoration-color: #00af00\">64</span>, <span style=\"color: #00af00; text-decoration-color: #00af00\">64</span>, <span style=\"color: #00af00; text-decoration-color: #00af00\">64</span>)     │              <span style=\"color: #00af00; text-decoration-color: #00af00\">0</span> │ conv2d_13[<span style=\"color: #00af00; text-decoration-color: #00af00\">0</span>][<span style=\"color: #00af00; text-decoration-color: #00af00\">0</span>]        │\n",
       "├───────────────────────────┼────────────────────────┼────────────────┼────────────────────────┤\n",
       "│ conv2d_14 (<span style=\"color: #0087ff; text-decoration-color: #0087ff\">Conv2D</span>)        │ (<span style=\"color: #00d7ff; text-decoration-color: #00d7ff\">None</span>, <span style=\"color: #00af00; text-decoration-color: #00af00\">64</span>, <span style=\"color: #00af00; text-decoration-color: #00af00\">64</span>, <span style=\"color: #00af00; text-decoration-color: #00af00\">128</span>)    │         <span style=\"color: #00af00; text-decoration-color: #00af00\">73,856</span> │ leaky_re_lu[<span style=\"color: #00af00; text-decoration-color: #00af00\">0</span>][<span style=\"color: #00af00; text-decoration-color: #00af00\">0</span>]      │\n",
       "├───────────────────────────┼────────────────────────┼────────────────┼────────────────────────┤\n",
       "│ leaky_re_lu_1 (<span style=\"color: #0087ff; text-decoration-color: #0087ff\">LeakyReLU</span>) │ (<span style=\"color: #00d7ff; text-decoration-color: #00d7ff\">None</span>, <span style=\"color: #00af00; text-decoration-color: #00af00\">64</span>, <span style=\"color: #00af00; text-decoration-color: #00af00\">64</span>, <span style=\"color: #00af00; text-decoration-color: #00af00\">128</span>)    │              <span style=\"color: #00af00; text-decoration-color: #00af00\">0</span> │ conv2d_14[<span style=\"color: #00af00; text-decoration-color: #00af00\">0</span>][<span style=\"color: #00af00; text-decoration-color: #00af00\">0</span>]        │\n",
       "├───────────────────────────┼────────────────────────┼────────────────┼────────────────────────┤\n",
       "│ conv2d_15 (<span style=\"color: #0087ff; text-decoration-color: #0087ff\">Conv2D</span>)        │ (<span style=\"color: #00d7ff; text-decoration-color: #00d7ff\">None</span>, <span style=\"color: #00af00; text-decoration-color: #00af00\">64</span>, <span style=\"color: #00af00; text-decoration-color: #00af00\">64</span>, <span style=\"color: #00af00; text-decoration-color: #00af00\">128</span>)    │        <span style=\"color: #00af00; text-decoration-color: #00af00\">147,584</span> │ leaky_re_lu_1[<span style=\"color: #00af00; text-decoration-color: #00af00\">0</span>][<span style=\"color: #00af00; text-decoration-color: #00af00\">0</span>]    │\n",
       "├───────────────────────────┼────────────────────────┼────────────────┼────────────────────────┤\n",
       "│ conv2d_16 (<span style=\"color: #0087ff; text-decoration-color: #0087ff\">Conv2D</span>)        │ (<span style=\"color: #00d7ff; text-decoration-color: #00d7ff\">None</span>, <span style=\"color: #00af00; text-decoration-color: #00af00\">64</span>, <span style=\"color: #00af00; text-decoration-color: #00af00\">64</span>, <span style=\"color: #00af00; text-decoration-color: #00af00\">128</span>)    │          <span style=\"color: #00af00; text-decoration-color: #00af00\">8,320</span> │ leaky_re_lu[<span style=\"color: #00af00; text-decoration-color: #00af00\">0</span>][<span style=\"color: #00af00; text-decoration-color: #00af00\">0</span>]      │\n",
       "├───────────────────────────┼────────────────────────┼────────────────┼────────────────────────┤\n",
       "│ average_pooling2d         │ (<span style=\"color: #00d7ff; text-decoration-color: #00d7ff\">None</span>, <span style=\"color: #00af00; text-decoration-color: #00af00\">32</span>, <span style=\"color: #00af00; text-decoration-color: #00af00\">32</span>, <span style=\"color: #00af00; text-decoration-color: #00af00\">128</span>)    │              <span style=\"color: #00af00; text-decoration-color: #00af00\">0</span> │ conv2d_15[<span style=\"color: #00af00; text-decoration-color: #00af00\">0</span>][<span style=\"color: #00af00; text-decoration-color: #00af00\">0</span>]        │\n",
       "│ (<span style=\"color: #0087ff; text-decoration-color: #0087ff\">AveragePooling2D</span>)        │                        │                │                        │\n",
       "├───────────────────────────┼────────────────────────┼────────────────┼────────────────────────┤\n",
       "│ average_pooling2d_1       │ (<span style=\"color: #00d7ff; text-decoration-color: #00d7ff\">None</span>, <span style=\"color: #00af00; text-decoration-color: #00af00\">32</span>, <span style=\"color: #00af00; text-decoration-color: #00af00\">32</span>, <span style=\"color: #00af00; text-decoration-color: #00af00\">128</span>)    │              <span style=\"color: #00af00; text-decoration-color: #00af00\">0</span> │ conv2d_16[<span style=\"color: #00af00; text-decoration-color: #00af00\">0</span>][<span style=\"color: #00af00; text-decoration-color: #00af00\">0</span>]        │\n",
       "│ (<span style=\"color: #0087ff; text-decoration-color: #0087ff\">AveragePooling2D</span>)        │                        │                │                        │\n",
       "├───────────────────────────┼────────────────────────┼────────────────┼────────────────────────┤\n",
       "│ add_4 (<span style=\"color: #0087ff; text-decoration-color: #0087ff\">Add</span>)               │ (<span style=\"color: #00d7ff; text-decoration-color: #00d7ff\">None</span>, <span style=\"color: #00af00; text-decoration-color: #00af00\">32</span>, <span style=\"color: #00af00; text-decoration-color: #00af00\">32</span>, <span style=\"color: #00af00; text-decoration-color: #00af00\">128</span>)    │              <span style=\"color: #00af00; text-decoration-color: #00af00\">0</span> │ average_pooling2d[<span style=\"color: #00af00; text-decoration-color: #00af00\">0</span>][<span style=\"color: #00af00; text-decoration-color: #00af00\">…</span> │\n",
       "│                           │                        │                │ average_pooling2d_1[<span style=\"color: #00af00; text-decoration-color: #00af00\">0</span>… │\n",
       "├───────────────────────────┼────────────────────────┼────────────────┼────────────────────────┤\n",
       "│ leaky_re_lu_2 (<span style=\"color: #0087ff; text-decoration-color: #0087ff\">LeakyReLU</span>) │ (<span style=\"color: #00d7ff; text-decoration-color: #00d7ff\">None</span>, <span style=\"color: #00af00; text-decoration-color: #00af00\">32</span>, <span style=\"color: #00af00; text-decoration-color: #00af00\">32</span>, <span style=\"color: #00af00; text-decoration-color: #00af00\">128</span>)    │              <span style=\"color: #00af00; text-decoration-color: #00af00\">0</span> │ add_4[<span style=\"color: #00af00; text-decoration-color: #00af00\">0</span>][<span style=\"color: #00af00; text-decoration-color: #00af00\">0</span>]            │\n",
       "├───────────────────────────┼────────────────────────┼────────────────┼────────────────────────┤\n",
       "│ conv2d_17 (<span style=\"color: #0087ff; text-decoration-color: #0087ff\">Conv2D</span>)        │ (<span style=\"color: #00d7ff; text-decoration-color: #00d7ff\">None</span>, <span style=\"color: #00af00; text-decoration-color: #00af00\">32</span>, <span style=\"color: #00af00; text-decoration-color: #00af00\">32</span>, <span style=\"color: #00af00; text-decoration-color: #00af00\">256</span>)    │        <span style=\"color: #00af00; text-decoration-color: #00af00\">295,168</span> │ leaky_re_lu_2[<span style=\"color: #00af00; text-decoration-color: #00af00\">0</span>][<span style=\"color: #00af00; text-decoration-color: #00af00\">0</span>]    │\n",
       "├───────────────────────────┼────────────────────────┼────────────────┼────────────────────────┤\n",
       "│ leaky_re_lu_3 (<span style=\"color: #0087ff; text-decoration-color: #0087ff\">LeakyReLU</span>) │ (<span style=\"color: #00d7ff; text-decoration-color: #00d7ff\">None</span>, <span style=\"color: #00af00; text-decoration-color: #00af00\">32</span>, <span style=\"color: #00af00; text-decoration-color: #00af00\">32</span>, <span style=\"color: #00af00; text-decoration-color: #00af00\">256</span>)    │              <span style=\"color: #00af00; text-decoration-color: #00af00\">0</span> │ conv2d_17[<span style=\"color: #00af00; text-decoration-color: #00af00\">0</span>][<span style=\"color: #00af00; text-decoration-color: #00af00\">0</span>]        │\n",
       "├───────────────────────────┼────────────────────────┼────────────────┼────────────────────────┤\n",
       "│ conv2d_18 (<span style=\"color: #0087ff; text-decoration-color: #0087ff\">Conv2D</span>)        │ (<span style=\"color: #00d7ff; text-decoration-color: #00d7ff\">None</span>, <span style=\"color: #00af00; text-decoration-color: #00af00\">32</span>, <span style=\"color: #00af00; text-decoration-color: #00af00\">32</span>, <span style=\"color: #00af00; text-decoration-color: #00af00\">256</span>)    │        <span style=\"color: #00af00; text-decoration-color: #00af00\">590,080</span> │ leaky_re_lu_3[<span style=\"color: #00af00; text-decoration-color: #00af00\">0</span>][<span style=\"color: #00af00; text-decoration-color: #00af00\">0</span>]    │\n",
       "├───────────────────────────┼────────────────────────┼────────────────┼────────────────────────┤\n",
       "│ conv2d_19 (<span style=\"color: #0087ff; text-decoration-color: #0087ff\">Conv2D</span>)        │ (<span style=\"color: #00d7ff; text-decoration-color: #00d7ff\">None</span>, <span style=\"color: #00af00; text-decoration-color: #00af00\">32</span>, <span style=\"color: #00af00; text-decoration-color: #00af00\">32</span>, <span style=\"color: #00af00; text-decoration-color: #00af00\">256</span>)    │         <span style=\"color: #00af00; text-decoration-color: #00af00\">33,024</span> │ leaky_re_lu_2[<span style=\"color: #00af00; text-decoration-color: #00af00\">0</span>][<span style=\"color: #00af00; text-decoration-color: #00af00\">0</span>]    │\n",
       "├───────────────────────────┼────────────────────────┼────────────────┼────────────────────────┤\n",
       "│ average_pooling2d_2       │ (<span style=\"color: #00d7ff; text-decoration-color: #00d7ff\">None</span>, <span style=\"color: #00af00; text-decoration-color: #00af00\">16</span>, <span style=\"color: #00af00; text-decoration-color: #00af00\">16</span>, <span style=\"color: #00af00; text-decoration-color: #00af00\">256</span>)    │              <span style=\"color: #00af00; text-decoration-color: #00af00\">0</span> │ conv2d_18[<span style=\"color: #00af00; text-decoration-color: #00af00\">0</span>][<span style=\"color: #00af00; text-decoration-color: #00af00\">0</span>]        │\n",
       "│ (<span style=\"color: #0087ff; text-decoration-color: #0087ff\">AveragePooling2D</span>)        │                        │                │                        │\n",
       "├───────────────────────────┼────────────────────────┼────────────────┼────────────────────────┤\n",
       "│ average_pooling2d_3       │ (<span style=\"color: #00d7ff; text-decoration-color: #00d7ff\">None</span>, <span style=\"color: #00af00; text-decoration-color: #00af00\">16</span>, <span style=\"color: #00af00; text-decoration-color: #00af00\">16</span>, <span style=\"color: #00af00; text-decoration-color: #00af00\">256</span>)    │              <span style=\"color: #00af00; text-decoration-color: #00af00\">0</span> │ conv2d_19[<span style=\"color: #00af00; text-decoration-color: #00af00\">0</span>][<span style=\"color: #00af00; text-decoration-color: #00af00\">0</span>]        │\n",
       "│ (<span style=\"color: #0087ff; text-decoration-color: #0087ff\">AveragePooling2D</span>)        │                        │                │                        │\n",
       "├───────────────────────────┼────────────────────────┼────────────────┼────────────────────────┤\n",
       "│ add_5 (<span style=\"color: #0087ff; text-decoration-color: #0087ff\">Add</span>)               │ (<span style=\"color: #00d7ff; text-decoration-color: #00d7ff\">None</span>, <span style=\"color: #00af00; text-decoration-color: #00af00\">16</span>, <span style=\"color: #00af00; text-decoration-color: #00af00\">16</span>, <span style=\"color: #00af00; text-decoration-color: #00af00\">256</span>)    │              <span style=\"color: #00af00; text-decoration-color: #00af00\">0</span> │ average_pooling2d_2[<span style=\"color: #00af00; text-decoration-color: #00af00\">0</span>… │\n",
       "│                           │                        │                │ average_pooling2d_3[<span style=\"color: #00af00; text-decoration-color: #00af00\">0</span>… │\n",
       "├───────────────────────────┼────────────────────────┼────────────────┼────────────────────────┤\n",
       "│ leaky_re_lu_4 (<span style=\"color: #0087ff; text-decoration-color: #0087ff\">LeakyReLU</span>) │ (<span style=\"color: #00d7ff; text-decoration-color: #00d7ff\">None</span>, <span style=\"color: #00af00; text-decoration-color: #00af00\">16</span>, <span style=\"color: #00af00; text-decoration-color: #00af00\">16</span>, <span style=\"color: #00af00; text-decoration-color: #00af00\">256</span>)    │              <span style=\"color: #00af00; text-decoration-color: #00af00\">0</span> │ add_5[<span style=\"color: #00af00; text-decoration-color: #00af00\">0</span>][<span style=\"color: #00af00; text-decoration-color: #00af00\">0</span>]            │\n",
       "├───────────────────────────┼────────────────────────┼────────────────┼────────────────────────┤\n",
       "│ conv2d_20 (<span style=\"color: #0087ff; text-decoration-color: #0087ff\">Conv2D</span>)        │ (<span style=\"color: #00d7ff; text-decoration-color: #00d7ff\">None</span>, <span style=\"color: #00af00; text-decoration-color: #00af00\">16</span>, <span style=\"color: #00af00; text-decoration-color: #00af00\">16</span>, <span style=\"color: #00af00; text-decoration-color: #00af00\">512</span>)    │      <span style=\"color: #00af00; text-decoration-color: #00af00\">1,180,160</span> │ leaky_re_lu_4[<span style=\"color: #00af00; text-decoration-color: #00af00\">0</span>][<span style=\"color: #00af00; text-decoration-color: #00af00\">0</span>]    │\n",
       "├───────────────────────────┼────────────────────────┼────────────────┼────────────────────────┤\n",
       "│ leaky_re_lu_5 (<span style=\"color: #0087ff; text-decoration-color: #0087ff\">LeakyReLU</span>) │ (<span style=\"color: #00d7ff; text-decoration-color: #00d7ff\">None</span>, <span style=\"color: #00af00; text-decoration-color: #00af00\">16</span>, <span style=\"color: #00af00; text-decoration-color: #00af00\">16</span>, <span style=\"color: #00af00; text-decoration-color: #00af00\">512</span>)    │              <span style=\"color: #00af00; text-decoration-color: #00af00\">0</span> │ conv2d_20[<span style=\"color: #00af00; text-decoration-color: #00af00\">0</span>][<span style=\"color: #00af00; text-decoration-color: #00af00\">0</span>]        │\n",
       "├───────────────────────────┼────────────────────────┼────────────────┼────────────────────────┤\n",
       "│ conv2d_21 (<span style=\"color: #0087ff; text-decoration-color: #0087ff\">Conv2D</span>)        │ (<span style=\"color: #00d7ff; text-decoration-color: #00d7ff\">None</span>, <span style=\"color: #00af00; text-decoration-color: #00af00\">16</span>, <span style=\"color: #00af00; text-decoration-color: #00af00\">16</span>, <span style=\"color: #00af00; text-decoration-color: #00af00\">512</span>)    │      <span style=\"color: #00af00; text-decoration-color: #00af00\">2,359,808</span> │ leaky_re_lu_5[<span style=\"color: #00af00; text-decoration-color: #00af00\">0</span>][<span style=\"color: #00af00; text-decoration-color: #00af00\">0</span>]    │\n",
       "├───────────────────────────┼────────────────────────┼────────────────┼────────────────────────┤\n",
       "│ conv2d_22 (<span style=\"color: #0087ff; text-decoration-color: #0087ff\">Conv2D</span>)        │ (<span style=\"color: #00d7ff; text-decoration-color: #00d7ff\">None</span>, <span style=\"color: #00af00; text-decoration-color: #00af00\">16</span>, <span style=\"color: #00af00; text-decoration-color: #00af00\">16</span>, <span style=\"color: #00af00; text-decoration-color: #00af00\">512</span>)    │        <span style=\"color: #00af00; text-decoration-color: #00af00\">131,584</span> │ leaky_re_lu_4[<span style=\"color: #00af00; text-decoration-color: #00af00\">0</span>][<span style=\"color: #00af00; text-decoration-color: #00af00\">0</span>]    │\n",
       "├───────────────────────────┼────────────────────────┼────────────────┼────────────────────────┤\n",
       "│ average_pooling2d_4       │ (<span style=\"color: #00d7ff; text-decoration-color: #00d7ff\">None</span>, <span style=\"color: #00af00; text-decoration-color: #00af00\">8</span>, <span style=\"color: #00af00; text-decoration-color: #00af00\">8</span>, <span style=\"color: #00af00; text-decoration-color: #00af00\">512</span>)      │              <span style=\"color: #00af00; text-decoration-color: #00af00\">0</span> │ conv2d_21[<span style=\"color: #00af00; text-decoration-color: #00af00\">0</span>][<span style=\"color: #00af00; text-decoration-color: #00af00\">0</span>]        │\n",
       "│ (<span style=\"color: #0087ff; text-decoration-color: #0087ff\">AveragePooling2D</span>)        │                        │                │                        │\n",
       "├───────────────────────────┼────────────────────────┼────────────────┼────────────────────────┤\n",
       "│ average_pooling2d_5       │ (<span style=\"color: #00d7ff; text-decoration-color: #00d7ff\">None</span>, <span style=\"color: #00af00; text-decoration-color: #00af00\">8</span>, <span style=\"color: #00af00; text-decoration-color: #00af00\">8</span>, <span style=\"color: #00af00; text-decoration-color: #00af00\">512</span>)      │              <span style=\"color: #00af00; text-decoration-color: #00af00\">0</span> │ conv2d_22[<span style=\"color: #00af00; text-decoration-color: #00af00\">0</span>][<span style=\"color: #00af00; text-decoration-color: #00af00\">0</span>]        │\n",
       "│ (<span style=\"color: #0087ff; text-decoration-color: #0087ff\">AveragePooling2D</span>)        │                        │                │                        │\n",
       "├───────────────────────────┼────────────────────────┼────────────────┼────────────────────────┤\n",
       "│ add_6 (<span style=\"color: #0087ff; text-decoration-color: #0087ff\">Add</span>)               │ (<span style=\"color: #00d7ff; text-decoration-color: #00d7ff\">None</span>, <span style=\"color: #00af00; text-decoration-color: #00af00\">8</span>, <span style=\"color: #00af00; text-decoration-color: #00af00\">8</span>, <span style=\"color: #00af00; text-decoration-color: #00af00\">512</span>)      │              <span style=\"color: #00af00; text-decoration-color: #00af00\">0</span> │ average_pooling2d_4[<span style=\"color: #00af00; text-decoration-color: #00af00\">0</span>… │\n",
       "│                           │                        │                │ average_pooling2d_5[<span style=\"color: #00af00; text-decoration-color: #00af00\">0</span>… │\n",
       "├───────────────────────────┼────────────────────────┼────────────────┼────────────────────────┤\n",
       "│ leaky_re_lu_6 (<span style=\"color: #0087ff; text-decoration-color: #0087ff\">LeakyReLU</span>) │ (<span style=\"color: #00d7ff; text-decoration-color: #00d7ff\">None</span>, <span style=\"color: #00af00; text-decoration-color: #00af00\">8</span>, <span style=\"color: #00af00; text-decoration-color: #00af00\">8</span>, <span style=\"color: #00af00; text-decoration-color: #00af00\">512</span>)      │              <span style=\"color: #00af00; text-decoration-color: #00af00\">0</span> │ add_6[<span style=\"color: #00af00; text-decoration-color: #00af00\">0</span>][<span style=\"color: #00af00; text-decoration-color: #00af00\">0</span>]            │\n",
       "├───────────────────────────┼────────────────────────┼────────────────┼────────────────────────┤\n",
       "│ conv2d_23 (<span style=\"color: #0087ff; text-decoration-color: #0087ff\">Conv2D</span>)        │ (<span style=\"color: #00d7ff; text-decoration-color: #00d7ff\">None</span>, <span style=\"color: #00af00; text-decoration-color: #00af00\">8</span>, <span style=\"color: #00af00; text-decoration-color: #00af00\">8</span>, <span style=\"color: #00af00; text-decoration-color: #00af00\">512</span>)      │      <span style=\"color: #00af00; text-decoration-color: #00af00\">2,359,808</span> │ leaky_re_lu_6[<span style=\"color: #00af00; text-decoration-color: #00af00\">0</span>][<span style=\"color: #00af00; text-decoration-color: #00af00\">0</span>]    │\n",
       "├───────────────────────────┼────────────────────────┼────────────────┼────────────────────────┤\n",
       "│ leaky_re_lu_7 (<span style=\"color: #0087ff; text-decoration-color: #0087ff\">LeakyReLU</span>) │ (<span style=\"color: #00d7ff; text-decoration-color: #00d7ff\">None</span>, <span style=\"color: #00af00; text-decoration-color: #00af00\">8</span>, <span style=\"color: #00af00; text-decoration-color: #00af00\">8</span>, <span style=\"color: #00af00; text-decoration-color: #00af00\">512</span>)      │              <span style=\"color: #00af00; text-decoration-color: #00af00\">0</span> │ conv2d_23[<span style=\"color: #00af00; text-decoration-color: #00af00\">0</span>][<span style=\"color: #00af00; text-decoration-color: #00af00\">0</span>]        │\n",
       "├───────────────────────────┼────────────────────────┼────────────────┼────────────────────────┤\n",
       "│ conv2d_24 (<span style=\"color: #0087ff; text-decoration-color: #0087ff\">Conv2D</span>)        │ (<span style=\"color: #00d7ff; text-decoration-color: #00d7ff\">None</span>, <span style=\"color: #00af00; text-decoration-color: #00af00\">8</span>, <span style=\"color: #00af00; text-decoration-color: #00af00\">8</span>, <span style=\"color: #00af00; text-decoration-color: #00af00\">512</span>)      │      <span style=\"color: #00af00; text-decoration-color: #00af00\">2,359,808</span> │ leaky_re_lu_7[<span style=\"color: #00af00; text-decoration-color: #00af00\">0</span>][<span style=\"color: #00af00; text-decoration-color: #00af00\">0</span>]    │\n",
       "├───────────────────────────┼────────────────────────┼────────────────┼────────────────────────┤\n",
       "│ conv2d_25 (<span style=\"color: #0087ff; text-decoration-color: #0087ff\">Conv2D</span>)        │ (<span style=\"color: #00d7ff; text-decoration-color: #00d7ff\">None</span>, <span style=\"color: #00af00; text-decoration-color: #00af00\">8</span>, <span style=\"color: #00af00; text-decoration-color: #00af00\">8</span>, <span style=\"color: #00af00; text-decoration-color: #00af00\">512</span>)      │        <span style=\"color: #00af00; text-decoration-color: #00af00\">262,656</span> │ leaky_re_lu_6[<span style=\"color: #00af00; text-decoration-color: #00af00\">0</span>][<span style=\"color: #00af00; text-decoration-color: #00af00\">0</span>]    │\n",
       "├───────────────────────────┼────────────────────────┼────────────────┼────────────────────────┤\n",
       "│ average_pooling2d_6       │ (<span style=\"color: #00d7ff; text-decoration-color: #00d7ff\">None</span>, <span style=\"color: #00af00; text-decoration-color: #00af00\">4</span>, <span style=\"color: #00af00; text-decoration-color: #00af00\">4</span>, <span style=\"color: #00af00; text-decoration-color: #00af00\">512</span>)      │              <span style=\"color: #00af00; text-decoration-color: #00af00\">0</span> │ conv2d_24[<span style=\"color: #00af00; text-decoration-color: #00af00\">0</span>][<span style=\"color: #00af00; text-decoration-color: #00af00\">0</span>]        │\n",
       "│ (<span style=\"color: #0087ff; text-decoration-color: #0087ff\">AveragePooling2D</span>)        │                        │                │                        │\n",
       "├───────────────────────────┼────────────────────────┼────────────────┼────────────────────────┤\n",
       "│ average_pooling2d_7       │ (<span style=\"color: #00d7ff; text-decoration-color: #00d7ff\">None</span>, <span style=\"color: #00af00; text-decoration-color: #00af00\">4</span>, <span style=\"color: #00af00; text-decoration-color: #00af00\">4</span>, <span style=\"color: #00af00; text-decoration-color: #00af00\">512</span>)      │              <span style=\"color: #00af00; text-decoration-color: #00af00\">0</span> │ conv2d_25[<span style=\"color: #00af00; text-decoration-color: #00af00\">0</span>][<span style=\"color: #00af00; text-decoration-color: #00af00\">0</span>]        │\n",
       "│ (<span style=\"color: #0087ff; text-decoration-color: #0087ff\">AveragePooling2D</span>)        │                        │                │                        │\n",
       "├───────────────────────────┼────────────────────────┼────────────────┼────────────────────────┤\n",
       "│ add_7 (<span style=\"color: #0087ff; text-decoration-color: #0087ff\">Add</span>)               │ (<span style=\"color: #00d7ff; text-decoration-color: #00d7ff\">None</span>, <span style=\"color: #00af00; text-decoration-color: #00af00\">4</span>, <span style=\"color: #00af00; text-decoration-color: #00af00\">4</span>, <span style=\"color: #00af00; text-decoration-color: #00af00\">512</span>)      │              <span style=\"color: #00af00; text-decoration-color: #00af00\">0</span> │ average_pooling2d_6[<span style=\"color: #00af00; text-decoration-color: #00af00\">0</span>… │\n",
       "│                           │                        │                │ average_pooling2d_7[<span style=\"color: #00af00; text-decoration-color: #00af00\">0</span>… │\n",
       "├───────────────────────────┼────────────────────────┼────────────────┼────────────────────────┤\n",
       "│ leaky_re_lu_8 (<span style=\"color: #0087ff; text-decoration-color: #0087ff\">LeakyReLU</span>) │ (<span style=\"color: #00d7ff; text-decoration-color: #00d7ff\">None</span>, <span style=\"color: #00af00; text-decoration-color: #00af00\">4</span>, <span style=\"color: #00af00; text-decoration-color: #00af00\">4</span>, <span style=\"color: #00af00; text-decoration-color: #00af00\">512</span>)      │              <span style=\"color: #00af00; text-decoration-color: #00af00\">0</span> │ add_7[<span style=\"color: #00af00; text-decoration-color: #00af00\">0</span>][<span style=\"color: #00af00; text-decoration-color: #00af00\">0</span>]            │\n",
       "├───────────────────────────┼────────────────────────┼────────────────┼────────────────────────┤\n",
       "│ global_average_pooling2d  │ (<span style=\"color: #00d7ff; text-decoration-color: #00d7ff\">None</span>, <span style=\"color: #00af00; text-decoration-color: #00af00\">512</span>)            │              <span style=\"color: #00af00; text-decoration-color: #00af00\">0</span> │ leaky_re_lu_8[<span style=\"color: #00af00; text-decoration-color: #00af00\">0</span>][<span style=\"color: #00af00; text-decoration-color: #00af00\">0</span>]    │\n",
       "│ (<span style=\"color: #0087ff; text-decoration-color: #0087ff\">GlobalAveragePooling2D</span>)  │                        │                │                        │\n",
       "├───────────────────────────┼────────────────────────┼────────────────┼────────────────────────┤\n",
       "│ cast_2 (<span style=\"color: #0087ff; text-decoration-color: #0087ff\">Cast</span>)             │ (<span style=\"color: #00d7ff; text-decoration-color: #00d7ff\">None</span>, <span style=\"color: #00af00; text-decoration-color: #00af00\">512</span>)            │              <span style=\"color: #00af00; text-decoration-color: #00af00\">0</span> │ global_average_poolin… │\n",
       "├───────────────────────────┼────────────────────────┼────────────────┼────────────────────────┤\n",
       "│ dense_1 (<span style=\"color: #0087ff; text-decoration-color: #0087ff\">Dense</span>)           │ (<span style=\"color: #00d7ff; text-decoration-color: #00d7ff\">None</span>, <span style=\"color: #00af00; text-decoration-color: #00af00\">1</span>)              │            <span style=\"color: #00af00; text-decoration-color: #00af00\">513</span> │ cast_2[<span style=\"color: #00af00; text-decoration-color: #00af00\">0</span>][<span style=\"color: #00af00; text-decoration-color: #00af00\">0</span>]           │\n",
       "└───────────────────────────┴────────────────────────┴────────────────┴────────────────────────┘\n",
       "</pre>\n"
      ],
      "text/plain": [
       "┏━━━━━━━━━━━━━━━━━━━━━━━━━━━┳━━━━━━━━━━━━━━━━━━━━━━━━┳━━━━━━━━━━━━━━━━┳━━━━━━━━━━━━━━━━━━━━━━━━┓\n",
       "┃\u001b[1m \u001b[0m\u001b[1mLayer (type)             \u001b[0m\u001b[1m \u001b[0m┃\u001b[1m \u001b[0m\u001b[1mOutput Shape          \u001b[0m\u001b[1m \u001b[0m┃\u001b[1m \u001b[0m\u001b[1m       Param #\u001b[0m\u001b[1m \u001b[0m┃\u001b[1m \u001b[0m\u001b[1mConnected to          \u001b[0m\u001b[1m \u001b[0m┃\n",
       "┡━━━━━━━━━━━━━━━━━━━━━━━━━━━╇━━━━━━━━━━━━━━━━━━━━━━━━╇━━━━━━━━━━━━━━━━╇━━━━━━━━━━━━━━━━━━━━━━━━┩\n",
       "│ input_layer_1             │ (\u001b[38;5;45mNone\u001b[0m, \u001b[38;5;34m64\u001b[0m, \u001b[38;5;34m64\u001b[0m, \u001b[38;5;34m3\u001b[0m)      │              \u001b[38;5;34m0\u001b[0m │ -                      │\n",
       "│ (\u001b[38;5;33mInputLayer\u001b[0m)              │                        │                │                        │\n",
       "├───────────────────────────┼────────────────────────┼────────────────┼────────────────────────┤\n",
       "│ cast_1 (\u001b[38;5;33mCast\u001b[0m)             │ (\u001b[38;5;45mNone\u001b[0m, \u001b[38;5;34m64\u001b[0m, \u001b[38;5;34m64\u001b[0m, \u001b[38;5;34m3\u001b[0m)      │              \u001b[38;5;34m0\u001b[0m │ input_layer_1[\u001b[38;5;34m0\u001b[0m][\u001b[38;5;34m0\u001b[0m]    │\n",
       "├───────────────────────────┼────────────────────────┼────────────────┼────────────────────────┤\n",
       "│ conv2d_13 (\u001b[38;5;33mConv2D\u001b[0m)        │ (\u001b[38;5;45mNone\u001b[0m, \u001b[38;5;34m64\u001b[0m, \u001b[38;5;34m64\u001b[0m, \u001b[38;5;34m64\u001b[0m)     │          \u001b[38;5;34m1,792\u001b[0m │ cast_1[\u001b[38;5;34m0\u001b[0m][\u001b[38;5;34m0\u001b[0m]           │\n",
       "├───────────────────────────┼────────────────────────┼────────────────┼────────────────────────┤\n",
       "│ leaky_re_lu (\u001b[38;5;33mLeakyReLU\u001b[0m)   │ (\u001b[38;5;45mNone\u001b[0m, \u001b[38;5;34m64\u001b[0m, \u001b[38;5;34m64\u001b[0m, \u001b[38;5;34m64\u001b[0m)     │              \u001b[38;5;34m0\u001b[0m │ conv2d_13[\u001b[38;5;34m0\u001b[0m][\u001b[38;5;34m0\u001b[0m]        │\n",
       "├───────────────────────────┼────────────────────────┼────────────────┼────────────────────────┤\n",
       "│ conv2d_14 (\u001b[38;5;33mConv2D\u001b[0m)        │ (\u001b[38;5;45mNone\u001b[0m, \u001b[38;5;34m64\u001b[0m, \u001b[38;5;34m64\u001b[0m, \u001b[38;5;34m128\u001b[0m)    │         \u001b[38;5;34m73,856\u001b[0m │ leaky_re_lu[\u001b[38;5;34m0\u001b[0m][\u001b[38;5;34m0\u001b[0m]      │\n",
       "├───────────────────────────┼────────────────────────┼────────────────┼────────────────────────┤\n",
       "│ leaky_re_lu_1 (\u001b[38;5;33mLeakyReLU\u001b[0m) │ (\u001b[38;5;45mNone\u001b[0m, \u001b[38;5;34m64\u001b[0m, \u001b[38;5;34m64\u001b[0m, \u001b[38;5;34m128\u001b[0m)    │              \u001b[38;5;34m0\u001b[0m │ conv2d_14[\u001b[38;5;34m0\u001b[0m][\u001b[38;5;34m0\u001b[0m]        │\n",
       "├───────────────────────────┼────────────────────────┼────────────────┼────────────────────────┤\n",
       "│ conv2d_15 (\u001b[38;5;33mConv2D\u001b[0m)        │ (\u001b[38;5;45mNone\u001b[0m, \u001b[38;5;34m64\u001b[0m, \u001b[38;5;34m64\u001b[0m, \u001b[38;5;34m128\u001b[0m)    │        \u001b[38;5;34m147,584\u001b[0m │ leaky_re_lu_1[\u001b[38;5;34m0\u001b[0m][\u001b[38;5;34m0\u001b[0m]    │\n",
       "├───────────────────────────┼────────────────────────┼────────────────┼────────────────────────┤\n",
       "│ conv2d_16 (\u001b[38;5;33mConv2D\u001b[0m)        │ (\u001b[38;5;45mNone\u001b[0m, \u001b[38;5;34m64\u001b[0m, \u001b[38;5;34m64\u001b[0m, \u001b[38;5;34m128\u001b[0m)    │          \u001b[38;5;34m8,320\u001b[0m │ leaky_re_lu[\u001b[38;5;34m0\u001b[0m][\u001b[38;5;34m0\u001b[0m]      │\n",
       "├───────────────────────────┼────────────────────────┼────────────────┼────────────────────────┤\n",
       "│ average_pooling2d         │ (\u001b[38;5;45mNone\u001b[0m, \u001b[38;5;34m32\u001b[0m, \u001b[38;5;34m32\u001b[0m, \u001b[38;5;34m128\u001b[0m)    │              \u001b[38;5;34m0\u001b[0m │ conv2d_15[\u001b[38;5;34m0\u001b[0m][\u001b[38;5;34m0\u001b[0m]        │\n",
       "│ (\u001b[38;5;33mAveragePooling2D\u001b[0m)        │                        │                │                        │\n",
       "├───────────────────────────┼────────────────────────┼────────────────┼────────────────────────┤\n",
       "│ average_pooling2d_1       │ (\u001b[38;5;45mNone\u001b[0m, \u001b[38;5;34m32\u001b[0m, \u001b[38;5;34m32\u001b[0m, \u001b[38;5;34m128\u001b[0m)    │              \u001b[38;5;34m0\u001b[0m │ conv2d_16[\u001b[38;5;34m0\u001b[0m][\u001b[38;5;34m0\u001b[0m]        │\n",
       "│ (\u001b[38;5;33mAveragePooling2D\u001b[0m)        │                        │                │                        │\n",
       "├───────────────────────────┼────────────────────────┼────────────────┼────────────────────────┤\n",
       "│ add_4 (\u001b[38;5;33mAdd\u001b[0m)               │ (\u001b[38;5;45mNone\u001b[0m, \u001b[38;5;34m32\u001b[0m, \u001b[38;5;34m32\u001b[0m, \u001b[38;5;34m128\u001b[0m)    │              \u001b[38;5;34m0\u001b[0m │ average_pooling2d[\u001b[38;5;34m0\u001b[0m][\u001b[38;5;34m…\u001b[0m │\n",
       "│                           │                        │                │ average_pooling2d_1[\u001b[38;5;34m0\u001b[0m… │\n",
       "├───────────────────────────┼────────────────────────┼────────────────┼────────────────────────┤\n",
       "│ leaky_re_lu_2 (\u001b[38;5;33mLeakyReLU\u001b[0m) │ (\u001b[38;5;45mNone\u001b[0m, \u001b[38;5;34m32\u001b[0m, \u001b[38;5;34m32\u001b[0m, \u001b[38;5;34m128\u001b[0m)    │              \u001b[38;5;34m0\u001b[0m │ add_4[\u001b[38;5;34m0\u001b[0m][\u001b[38;5;34m0\u001b[0m]            │\n",
       "├───────────────────────────┼────────────────────────┼────────────────┼────────────────────────┤\n",
       "│ conv2d_17 (\u001b[38;5;33mConv2D\u001b[0m)        │ (\u001b[38;5;45mNone\u001b[0m, \u001b[38;5;34m32\u001b[0m, \u001b[38;5;34m32\u001b[0m, \u001b[38;5;34m256\u001b[0m)    │        \u001b[38;5;34m295,168\u001b[0m │ leaky_re_lu_2[\u001b[38;5;34m0\u001b[0m][\u001b[38;5;34m0\u001b[0m]    │\n",
       "├───────────────────────────┼────────────────────────┼────────────────┼────────────────────────┤\n",
       "│ leaky_re_lu_3 (\u001b[38;5;33mLeakyReLU\u001b[0m) │ (\u001b[38;5;45mNone\u001b[0m, \u001b[38;5;34m32\u001b[0m, \u001b[38;5;34m32\u001b[0m, \u001b[38;5;34m256\u001b[0m)    │              \u001b[38;5;34m0\u001b[0m │ conv2d_17[\u001b[38;5;34m0\u001b[0m][\u001b[38;5;34m0\u001b[0m]        │\n",
       "├───────────────────────────┼────────────────────────┼────────────────┼────────────────────────┤\n",
       "│ conv2d_18 (\u001b[38;5;33mConv2D\u001b[0m)        │ (\u001b[38;5;45mNone\u001b[0m, \u001b[38;5;34m32\u001b[0m, \u001b[38;5;34m32\u001b[0m, \u001b[38;5;34m256\u001b[0m)    │        \u001b[38;5;34m590,080\u001b[0m │ leaky_re_lu_3[\u001b[38;5;34m0\u001b[0m][\u001b[38;5;34m0\u001b[0m]    │\n",
       "├───────────────────────────┼────────────────────────┼────────────────┼────────────────────────┤\n",
       "│ conv2d_19 (\u001b[38;5;33mConv2D\u001b[0m)        │ (\u001b[38;5;45mNone\u001b[0m, \u001b[38;5;34m32\u001b[0m, \u001b[38;5;34m32\u001b[0m, \u001b[38;5;34m256\u001b[0m)    │         \u001b[38;5;34m33,024\u001b[0m │ leaky_re_lu_2[\u001b[38;5;34m0\u001b[0m][\u001b[38;5;34m0\u001b[0m]    │\n",
       "├───────────────────────────┼────────────────────────┼────────────────┼────────────────────────┤\n",
       "│ average_pooling2d_2       │ (\u001b[38;5;45mNone\u001b[0m, \u001b[38;5;34m16\u001b[0m, \u001b[38;5;34m16\u001b[0m, \u001b[38;5;34m256\u001b[0m)    │              \u001b[38;5;34m0\u001b[0m │ conv2d_18[\u001b[38;5;34m0\u001b[0m][\u001b[38;5;34m0\u001b[0m]        │\n",
       "│ (\u001b[38;5;33mAveragePooling2D\u001b[0m)        │                        │                │                        │\n",
       "├───────────────────────────┼────────────────────────┼────────────────┼────────────────────────┤\n",
       "│ average_pooling2d_3       │ (\u001b[38;5;45mNone\u001b[0m, \u001b[38;5;34m16\u001b[0m, \u001b[38;5;34m16\u001b[0m, \u001b[38;5;34m256\u001b[0m)    │              \u001b[38;5;34m0\u001b[0m │ conv2d_19[\u001b[38;5;34m0\u001b[0m][\u001b[38;5;34m0\u001b[0m]        │\n",
       "│ (\u001b[38;5;33mAveragePooling2D\u001b[0m)        │                        │                │                        │\n",
       "├───────────────────────────┼────────────────────────┼────────────────┼────────────────────────┤\n",
       "│ add_5 (\u001b[38;5;33mAdd\u001b[0m)               │ (\u001b[38;5;45mNone\u001b[0m, \u001b[38;5;34m16\u001b[0m, \u001b[38;5;34m16\u001b[0m, \u001b[38;5;34m256\u001b[0m)    │              \u001b[38;5;34m0\u001b[0m │ average_pooling2d_2[\u001b[38;5;34m0\u001b[0m… │\n",
       "│                           │                        │                │ average_pooling2d_3[\u001b[38;5;34m0\u001b[0m… │\n",
       "├───────────────────────────┼────────────────────────┼────────────────┼────────────────────────┤\n",
       "│ leaky_re_lu_4 (\u001b[38;5;33mLeakyReLU\u001b[0m) │ (\u001b[38;5;45mNone\u001b[0m, \u001b[38;5;34m16\u001b[0m, \u001b[38;5;34m16\u001b[0m, \u001b[38;5;34m256\u001b[0m)    │              \u001b[38;5;34m0\u001b[0m │ add_5[\u001b[38;5;34m0\u001b[0m][\u001b[38;5;34m0\u001b[0m]            │\n",
       "├───────────────────────────┼────────────────────────┼────────────────┼────────────────────────┤\n",
       "│ conv2d_20 (\u001b[38;5;33mConv2D\u001b[0m)        │ (\u001b[38;5;45mNone\u001b[0m, \u001b[38;5;34m16\u001b[0m, \u001b[38;5;34m16\u001b[0m, \u001b[38;5;34m512\u001b[0m)    │      \u001b[38;5;34m1,180,160\u001b[0m │ leaky_re_lu_4[\u001b[38;5;34m0\u001b[0m][\u001b[38;5;34m0\u001b[0m]    │\n",
       "├───────────────────────────┼────────────────────────┼────────────────┼────────────────────────┤\n",
       "│ leaky_re_lu_5 (\u001b[38;5;33mLeakyReLU\u001b[0m) │ (\u001b[38;5;45mNone\u001b[0m, \u001b[38;5;34m16\u001b[0m, \u001b[38;5;34m16\u001b[0m, \u001b[38;5;34m512\u001b[0m)    │              \u001b[38;5;34m0\u001b[0m │ conv2d_20[\u001b[38;5;34m0\u001b[0m][\u001b[38;5;34m0\u001b[0m]        │\n",
       "├───────────────────────────┼────────────────────────┼────────────────┼────────────────────────┤\n",
       "│ conv2d_21 (\u001b[38;5;33mConv2D\u001b[0m)        │ (\u001b[38;5;45mNone\u001b[0m, \u001b[38;5;34m16\u001b[0m, \u001b[38;5;34m16\u001b[0m, \u001b[38;5;34m512\u001b[0m)    │      \u001b[38;5;34m2,359,808\u001b[0m │ leaky_re_lu_5[\u001b[38;5;34m0\u001b[0m][\u001b[38;5;34m0\u001b[0m]    │\n",
       "├───────────────────────────┼────────────────────────┼────────────────┼────────────────────────┤\n",
       "│ conv2d_22 (\u001b[38;5;33mConv2D\u001b[0m)        │ (\u001b[38;5;45mNone\u001b[0m, \u001b[38;5;34m16\u001b[0m, \u001b[38;5;34m16\u001b[0m, \u001b[38;5;34m512\u001b[0m)    │        \u001b[38;5;34m131,584\u001b[0m │ leaky_re_lu_4[\u001b[38;5;34m0\u001b[0m][\u001b[38;5;34m0\u001b[0m]    │\n",
       "├───────────────────────────┼────────────────────────┼────────────────┼────────────────────────┤\n",
       "│ average_pooling2d_4       │ (\u001b[38;5;45mNone\u001b[0m, \u001b[38;5;34m8\u001b[0m, \u001b[38;5;34m8\u001b[0m, \u001b[38;5;34m512\u001b[0m)      │              \u001b[38;5;34m0\u001b[0m │ conv2d_21[\u001b[38;5;34m0\u001b[0m][\u001b[38;5;34m0\u001b[0m]        │\n",
       "│ (\u001b[38;5;33mAveragePooling2D\u001b[0m)        │                        │                │                        │\n",
       "├───────────────────────────┼────────────────────────┼────────────────┼────────────────────────┤\n",
       "│ average_pooling2d_5       │ (\u001b[38;5;45mNone\u001b[0m, \u001b[38;5;34m8\u001b[0m, \u001b[38;5;34m8\u001b[0m, \u001b[38;5;34m512\u001b[0m)      │              \u001b[38;5;34m0\u001b[0m │ conv2d_22[\u001b[38;5;34m0\u001b[0m][\u001b[38;5;34m0\u001b[0m]        │\n",
       "│ (\u001b[38;5;33mAveragePooling2D\u001b[0m)        │                        │                │                        │\n",
       "├───────────────────────────┼────────────────────────┼────────────────┼────────────────────────┤\n",
       "│ add_6 (\u001b[38;5;33mAdd\u001b[0m)               │ (\u001b[38;5;45mNone\u001b[0m, \u001b[38;5;34m8\u001b[0m, \u001b[38;5;34m8\u001b[0m, \u001b[38;5;34m512\u001b[0m)      │              \u001b[38;5;34m0\u001b[0m │ average_pooling2d_4[\u001b[38;5;34m0\u001b[0m… │\n",
       "│                           │                        │                │ average_pooling2d_5[\u001b[38;5;34m0\u001b[0m… │\n",
       "├───────────────────────────┼────────────────────────┼────────────────┼────────────────────────┤\n",
       "│ leaky_re_lu_6 (\u001b[38;5;33mLeakyReLU\u001b[0m) │ (\u001b[38;5;45mNone\u001b[0m, \u001b[38;5;34m8\u001b[0m, \u001b[38;5;34m8\u001b[0m, \u001b[38;5;34m512\u001b[0m)      │              \u001b[38;5;34m0\u001b[0m │ add_6[\u001b[38;5;34m0\u001b[0m][\u001b[38;5;34m0\u001b[0m]            │\n",
       "├───────────────────────────┼────────────────────────┼────────────────┼────────────────────────┤\n",
       "│ conv2d_23 (\u001b[38;5;33mConv2D\u001b[0m)        │ (\u001b[38;5;45mNone\u001b[0m, \u001b[38;5;34m8\u001b[0m, \u001b[38;5;34m8\u001b[0m, \u001b[38;5;34m512\u001b[0m)      │      \u001b[38;5;34m2,359,808\u001b[0m │ leaky_re_lu_6[\u001b[38;5;34m0\u001b[0m][\u001b[38;5;34m0\u001b[0m]    │\n",
       "├───────────────────────────┼────────────────────────┼────────────────┼────────────────────────┤\n",
       "│ leaky_re_lu_7 (\u001b[38;5;33mLeakyReLU\u001b[0m) │ (\u001b[38;5;45mNone\u001b[0m, \u001b[38;5;34m8\u001b[0m, \u001b[38;5;34m8\u001b[0m, \u001b[38;5;34m512\u001b[0m)      │              \u001b[38;5;34m0\u001b[0m │ conv2d_23[\u001b[38;5;34m0\u001b[0m][\u001b[38;5;34m0\u001b[0m]        │\n",
       "├───────────────────────────┼────────────────────────┼────────────────┼────────────────────────┤\n",
       "│ conv2d_24 (\u001b[38;5;33mConv2D\u001b[0m)        │ (\u001b[38;5;45mNone\u001b[0m, \u001b[38;5;34m8\u001b[0m, \u001b[38;5;34m8\u001b[0m, \u001b[38;5;34m512\u001b[0m)      │      \u001b[38;5;34m2,359,808\u001b[0m │ leaky_re_lu_7[\u001b[38;5;34m0\u001b[0m][\u001b[38;5;34m0\u001b[0m]    │\n",
       "├───────────────────────────┼────────────────────────┼────────────────┼────────────────────────┤\n",
       "│ conv2d_25 (\u001b[38;5;33mConv2D\u001b[0m)        │ (\u001b[38;5;45mNone\u001b[0m, \u001b[38;5;34m8\u001b[0m, \u001b[38;5;34m8\u001b[0m, \u001b[38;5;34m512\u001b[0m)      │        \u001b[38;5;34m262,656\u001b[0m │ leaky_re_lu_6[\u001b[38;5;34m0\u001b[0m][\u001b[38;5;34m0\u001b[0m]    │\n",
       "├───────────────────────────┼────────────────────────┼────────────────┼────────────────────────┤\n",
       "│ average_pooling2d_6       │ (\u001b[38;5;45mNone\u001b[0m, \u001b[38;5;34m4\u001b[0m, \u001b[38;5;34m4\u001b[0m, \u001b[38;5;34m512\u001b[0m)      │              \u001b[38;5;34m0\u001b[0m │ conv2d_24[\u001b[38;5;34m0\u001b[0m][\u001b[38;5;34m0\u001b[0m]        │\n",
       "│ (\u001b[38;5;33mAveragePooling2D\u001b[0m)        │                        │                │                        │\n",
       "├───────────────────────────┼────────────────────────┼────────────────┼────────────────────────┤\n",
       "│ average_pooling2d_7       │ (\u001b[38;5;45mNone\u001b[0m, \u001b[38;5;34m4\u001b[0m, \u001b[38;5;34m4\u001b[0m, \u001b[38;5;34m512\u001b[0m)      │              \u001b[38;5;34m0\u001b[0m │ conv2d_25[\u001b[38;5;34m0\u001b[0m][\u001b[38;5;34m0\u001b[0m]        │\n",
       "│ (\u001b[38;5;33mAveragePooling2D\u001b[0m)        │                        │                │                        │\n",
       "├───────────────────────────┼────────────────────────┼────────────────┼────────────────────────┤\n",
       "│ add_7 (\u001b[38;5;33mAdd\u001b[0m)               │ (\u001b[38;5;45mNone\u001b[0m, \u001b[38;5;34m4\u001b[0m, \u001b[38;5;34m4\u001b[0m, \u001b[38;5;34m512\u001b[0m)      │              \u001b[38;5;34m0\u001b[0m │ average_pooling2d_6[\u001b[38;5;34m0\u001b[0m… │\n",
       "│                           │                        │                │ average_pooling2d_7[\u001b[38;5;34m0\u001b[0m… │\n",
       "├───────────────────────────┼────────────────────────┼────────────────┼────────────────────────┤\n",
       "│ leaky_re_lu_8 (\u001b[38;5;33mLeakyReLU\u001b[0m) │ (\u001b[38;5;45mNone\u001b[0m, \u001b[38;5;34m4\u001b[0m, \u001b[38;5;34m4\u001b[0m, \u001b[38;5;34m512\u001b[0m)      │              \u001b[38;5;34m0\u001b[0m │ add_7[\u001b[38;5;34m0\u001b[0m][\u001b[38;5;34m0\u001b[0m]            │\n",
       "├───────────────────────────┼────────────────────────┼────────────────┼────────────────────────┤\n",
       "│ global_average_pooling2d  │ (\u001b[38;5;45mNone\u001b[0m, \u001b[38;5;34m512\u001b[0m)            │              \u001b[38;5;34m0\u001b[0m │ leaky_re_lu_8[\u001b[38;5;34m0\u001b[0m][\u001b[38;5;34m0\u001b[0m]    │\n",
       "│ (\u001b[38;5;33mGlobalAveragePooling2D\u001b[0m)  │                        │                │                        │\n",
       "├───────────────────────────┼────────────────────────┼────────────────┼────────────────────────┤\n",
       "│ cast_2 (\u001b[38;5;33mCast\u001b[0m)             │ (\u001b[38;5;45mNone\u001b[0m, \u001b[38;5;34m512\u001b[0m)            │              \u001b[38;5;34m0\u001b[0m │ global_average_poolin… │\n",
       "├───────────────────────────┼────────────────────────┼────────────────┼────────────────────────┤\n",
       "│ dense_1 (\u001b[38;5;33mDense\u001b[0m)           │ (\u001b[38;5;45mNone\u001b[0m, \u001b[38;5;34m1\u001b[0m)              │            \u001b[38;5;34m513\u001b[0m │ cast_2[\u001b[38;5;34m0\u001b[0m][\u001b[38;5;34m0\u001b[0m]           │\n",
       "└───────────────────────────┴────────────────────────┴────────────────┴────────────────────────┘\n"
      ]
     },
     "metadata": {},
     "output_type": "display_data"
    },
    {
     "data": {
      "text/html": [
       "<pre style=\"white-space:pre;overflow-x:auto;line-height:normal;font-family:Menlo,'DejaVu Sans Mono',consolas,'Courier New',monospace\"><span style=\"font-weight: bold\"> Total params: </span><span style=\"color: #00af00; text-decoration-color: #00af00\">9,804,161</span> (37.40 MB)\n",
       "</pre>\n"
      ],
      "text/plain": [
       "\u001b[1m Total params: \u001b[0m\u001b[38;5;34m9,804,161\u001b[0m (37.40 MB)\n"
      ]
     },
     "metadata": {},
     "output_type": "display_data"
    },
    {
     "data": {
      "text/html": [
       "<pre style=\"white-space:pre;overflow-x:auto;line-height:normal;font-family:Menlo,'DejaVu Sans Mono',consolas,'Courier New',monospace\"><span style=\"font-weight: bold\"> Trainable params: </span><span style=\"color: #00af00; text-decoration-color: #00af00\">9,804,161</span> (37.40 MB)\n",
       "</pre>\n"
      ],
      "text/plain": [
       "\u001b[1m Trainable params: \u001b[0m\u001b[38;5;34m9,804,161\u001b[0m (37.40 MB)\n"
      ]
     },
     "metadata": {},
     "output_type": "display_data"
    },
    {
     "data": {
      "text/html": [
       "<pre style=\"white-space:pre;overflow-x:auto;line-height:normal;font-family:Menlo,'DejaVu Sans Mono',consolas,'Courier New',monospace\"><span style=\"font-weight: bold\"> Non-trainable params: </span><span style=\"color: #00af00; text-decoration-color: #00af00\">0</span> (0.00 B)\n",
       "</pre>\n"
      ],
      "text/plain": [
       "\u001b[1m Non-trainable params: \u001b[0m\u001b[38;5;34m0\u001b[0m (0.00 B)\n"
      ]
     },
     "metadata": {},
     "output_type": "display_data"
    }
   ],
   "source": [
    "discriminator = build_resnet_discriminator()"
   ]
  },
  {
   "cell_type": "code",
   "execution_count": 17,
   "id": "1411915f",
   "metadata": {
    "execution": {
     "iopub.execute_input": "2025-06-08T17:37:40.195281Z",
     "iopub.status.busy": "2025-06-08T17:37:40.194623Z",
     "iopub.status.idle": "2025-06-08T17:37:40.591250Z",
     "shell.execute_reply": "2025-06-08T17:37:40.590445Z"
    },
    "id": "y3soJbk5OJXd",
    "outputId": "28e97cbc-3dad-4f8e-d7e0-536d007d08c7",
    "papermill": {
     "duration": 0.420048,
     "end_time": "2025-06-08T17:37:40.592595",
     "exception": false,
     "start_time": "2025-06-08T17:37:40.172547",
     "status": "completed"
    },
    "tags": []
   },
   "outputs": [
    {
     "data": {
      "text/plain": [
       "<tf.Tensor: shape=(1, 1), dtype=float32, numpy=array([[0.00012202]], dtype=float32)>"
      ]
     },
     "execution_count": 17,
     "metadata": {},
     "output_type": "execute_result"
    }
   ],
   "source": [
    "discriminator(generated_image, training = False) # logits"
   ]
  },
  {
   "cell_type": "code",
   "execution_count": 18,
   "id": "20ae9e14",
   "metadata": {
    "execution": {
     "iopub.execute_input": "2025-06-08T17:37:40.637580Z",
     "iopub.status.busy": "2025-06-08T17:37:40.637004Z",
     "iopub.status.idle": "2025-06-08T17:37:40.640940Z",
     "shell.execute_reply": "2025-06-08T17:37:40.640228Z"
    },
    "id": "UPkyz5J_OLec",
    "papermill": {
     "duration": 0.0272,
     "end_time": "2025-06-08T17:37:40.641993",
     "exception": false,
     "start_time": "2025-06-08T17:37:40.614793",
     "status": "completed"
    },
    "tags": []
   },
   "outputs": [],
   "source": [
    "def loss_generator(fake_output):\n",
    "  g_loss = -1. * tf.math.reduce_mean(fake_output) # need to minimize the difference by generator\n",
    "  return g_loss"
   ]
  },
  {
   "cell_type": "code",
   "execution_count": 19,
   "id": "c0a52190",
   "metadata": {
    "execution": {
     "iopub.execute_input": "2025-06-08T17:37:40.686251Z",
     "iopub.status.busy": "2025-06-08T17:37:40.685757Z",
     "iopub.status.idle": "2025-06-08T17:37:40.689499Z",
     "shell.execute_reply": "2025-06-08T17:37:40.688802Z"
    },
    "id": "QkhemwFnOOq_",
    "papermill": {
     "duration": 0.026946,
     "end_time": "2025-06-08T17:37:40.690632",
     "exception": false,
     "start_time": "2025-06-08T17:37:40.663686",
     "status": "completed"
    },
    "tags": []
   },
   "outputs": [],
   "source": [
    "def loss_discriminator(real_output, fake_output, gradient_penalty):\n",
    "  c_lambda = 10\n",
    "  d_loss = tf.math.reduce_mean(fake_output) - tf.math.reduce_mean(real_output) + c_lambda * gradient_penalty\n",
    "  return d_loss"
   ]
  },
  {
   "cell_type": "code",
   "execution_count": 20,
   "id": "3a782f44",
   "metadata": {
    "execution": {
     "iopub.execute_input": "2025-06-08T17:37:40.734802Z",
     "iopub.status.busy": "2025-06-08T17:37:40.734529Z",
     "iopub.status.idle": "2025-06-08T17:37:40.739613Z",
     "shell.execute_reply": "2025-06-08T17:37:40.738919Z"
    },
    "id": "Cada7G48OPDI",
    "papermill": {
     "duration": 0.028693,
     "end_time": "2025-06-08T17:37:40.740808",
     "exception": false,
     "start_time": "2025-06-08T17:37:40.712115",
     "status": "completed"
    },
    "tags": []
   },
   "outputs": [],
   "source": [
    "@tf.function\n",
    "def gradient_penalty(real, fake, epsilon):\n",
    "  interpolated_images = real * epsilon + fake * (1 - epsilon)\n",
    "  with tf.GradientTape() as tape:\n",
    "    tape.watch(interpolated_images)\n",
    "    scores = discriminator(interpolated_images)[0]\n",
    "  gradient = tape.gradient(scores, interpolated_images)[0] # form the gradient of the image\n",
    "  gradient_norm = tf.norm(gradient) # L2 normalization\n",
    "  gp = tf.math.reduce_mean((gradient_norm - 1)**2)\n",
    "  return gp"
   ]
  },
  {
   "cell_type": "code",
   "execution_count": 21,
   "id": "2eba27ee",
   "metadata": {
    "execution": {
     "iopub.execute_input": "2025-06-08T17:37:40.785393Z",
     "iopub.status.busy": "2025-06-08T17:37:40.784754Z",
     "iopub.status.idle": "2025-06-08T17:37:40.802418Z",
     "shell.execute_reply": "2025-06-08T17:37:40.801886Z"
    },
    "id": "BlZ-RfFHOVyF",
    "papermill": {
     "duration": 0.041399,
     "end_time": "2025-06-08T17:37:40.803661",
     "exception": false,
     "start_time": "2025-06-08T17:37:40.762262",
     "status": "completed"
    },
    "tags": []
   },
   "outputs": [],
   "source": [
    "generator_optimizer = tf.keras.optimizers.Adam(learning_rate = 0.0002, beta_1 = 0.5, beta_2 = 0.9) # in the paper these are default values, basically the beta param used to reduce the learning rate exponencially\n",
    "generator_optimizer = mixed_precision.LossScaleOptimizer(generator_optimizer)\n",
    "discriminator_optimizer = tf.keras.optimizers.Adam(learning_rate = 0.0002, beta_1 = 0.5, beta_2 = 0.9)\n",
    "discriminator_optimizer = mixed_precision.LossScaleOptimizer(discriminator_optimizer)"
   ]
  },
  {
   "cell_type": "code",
   "execution_count": 22,
   "id": "72b2db1e",
   "metadata": {
    "execution": {
     "iopub.execute_input": "2025-06-08T17:37:40.848469Z",
     "iopub.status.busy": "2025-06-08T17:37:40.847887Z",
     "iopub.status.idle": "2025-06-08T17:37:40.852041Z",
     "shell.execute_reply": "2025-06-08T17:37:40.851559Z"
    },
    "id": "smitQkZFOYhG",
    "papermill": {
     "duration": 0.027627,
     "end_time": "2025-06-08T17:37:40.853182",
     "exception": false,
     "start_time": "2025-06-08T17:37:40.825555",
     "status": "completed"
    },
    "tags": []
   },
   "outputs": [],
   "source": [
    "checkpoint_dir = './training_checkpoints'\n",
    "checkpoint_prefix = os.path.join(checkpoint_dir, 'checkpoints')\n",
    "#print(checkpoint_prefix)\n",
    "checkpoint = tf.train.Checkpoint(generator_optimizer = generator_optimizer,\n",
    "                                 discriminator_optimizer = discriminator_optimizer,\n",
    "                                 generator = generator,\n",
    "                                 discriminator = discriminator)"
   ]
  },
  {
   "cell_type": "code",
   "execution_count": 23,
   "id": "d1e5372c",
   "metadata": {
    "execution": {
     "iopub.execute_input": "2025-06-08T17:37:40.898614Z",
     "iopub.status.busy": "2025-06-08T17:37:40.897835Z",
     "iopub.status.idle": "2025-06-08T17:37:40.902751Z",
     "shell.execute_reply": "2025-06-08T17:37:40.902017Z"
    },
    "id": "JGi5HGXOOaM5",
    "papermill": {
     "duration": 0.028004,
     "end_time": "2025-06-08T17:37:40.903842",
     "exception": false,
     "start_time": "2025-06-08T17:37:40.875838",
     "status": "completed"
    },
    "tags": []
   },
   "outputs": [],
   "source": [
    "epochs = 30\n",
    "noise_dim = 100\n",
    "number_of_images = 16\n",
    "seed = tf.random.normal([number_of_images, noise_dim])"
   ]
  },
  {
   "cell_type": "code",
   "execution_count": 24,
   "id": "6387e79a",
   "metadata": {
    "execution": {
     "iopub.execute_input": "2025-06-08T17:37:40.948455Z",
     "iopub.status.busy": "2025-06-08T17:37:40.948164Z",
     "iopub.status.idle": "2025-06-08T17:37:40.954426Z",
     "shell.execute_reply": "2025-06-08T17:37:40.953714Z"
    },
    "id": "z4e-1uPeOf2A",
    "papermill": {
     "duration": 0.029857,
     "end_time": "2025-06-08T17:37:40.955576",
     "exception": false,
     "start_time": "2025-06-08T17:37:40.925719",
     "status": "completed"
    },
    "tags": []
   },
   "outputs": [],
   "source": [
    "# def training_step(images):\n",
    "#   noise = tf.random.normal([batch_size, noise_dim])\n",
    "#   discriminator_extra_steps = 3 #You update the discriminator 3 times per generator update.Helps it stay ahead of the generator.\n",
    "#   for i in range(discriminator_extra_steps):\n",
    "#     with tf.GradientTape() as d_tape:\n",
    "#       generated_images = generator(noise, training = True)\n",
    "#       real_output = discriminator(images, training = True)\n",
    "#       fake_output = discriminator(generated_images, training = True)\n",
    "#       epsilon = tf.random.normal([batch_size, 1, 1, 1], 0.0, 1.0) #This samples random coefficients t∼U[0,1] for interpolation.Shape is broadcasted for image tensors.\n",
    "#       gp = gradient_penalty(images, generated_images, epsilon)\n",
    "\n",
    "#       d_loss = loss_discriminator(real_output, fake_output, gp) # critic loss\n",
    "#     discriminator_gradients = d_tape.gradient(d_loss, discriminator.trainable_variables)\n",
    "#     discriminator_optimizer.apply_gradients(zip(discriminator_gradients, discriminator.trainable_variables))\n",
    "\n",
    "#   with tf.GradientTape() as g_tape:\n",
    "#     generated_images = generator(noise, training = True)\n",
    "#     fake_output = discriminator(generated_images, training = True) #Generates new fake images.Gets their critic score from the discriminator.\n",
    "#     g_loss = loss_generator(fake_output) #Generator wants to maximize the critic's score:E[D( x~ )], i.e., make fake look real.But because you use gradient descent, you minimize −E[D( x~ )]\n",
    "#   generator_gradients = g_tape.gradient(g_loss, generator.trainable_variables)\n",
    "#   generator_optimizer.apply_gradients(zip(generator_gradients, generator.trainable_variables)) #Backpropagate and update the generator’s weights.\n",
    "\n",
    "def training_step(images):\n",
    "    # Generate latent vectors (noise)\n",
    "    noise = tf.random.normal([batch_size, noise_dim])\n",
    "\n",
    "    discriminator_extra_steps = 3  # Multiple updates for critic\n",
    "\n",
    "    for i in range(discriminator_extra_steps):\n",
    "        with tf.GradientTape() as d_tape:\n",
    "            # Generate fake images\n",
    "            generated_images = generator(noise, training=True)\n",
    "\n",
    "            # Get critic scores for real and fake images\n",
    "            real_output = discriminator(images, training=True)\n",
    "            fake_output = discriminator(generated_images, training=True)\n",
    "\n",
    "            # Interpolation for gradient penalty\n",
    "            epsilon = tf.random.uniform([batch_size, 1, 1, 1], 0.0, 1.0)\n",
    "            gp = gradient_penalty(images, generated_images, epsilon)\n",
    "\n",
    "            # WGAN-GP critic loss\n",
    "            d_loss = loss_discriminator(real_output, fake_output, gp)\n",
    "\n",
    "        # Apply discriminator (critic) gradients\n",
    "        discriminator_gradients = d_tape.gradient(d_loss, discriminator.trainable_variables)\n",
    "        discriminator_optimizer.apply_gradients(zip(discriminator_gradients, discriminator.trainable_variables))\n",
    "\n",
    "    # Train generator\n",
    "    with tf.GradientTape() as g_tape:\n",
    "        generated_images = generator(noise, training=True)\n",
    "        fake_output = discriminator(generated_images, training=True)\n",
    "        g_loss = loss_generator(fake_output)\n",
    "\n",
    "    generator_gradients = g_tape.gradient(g_loss, generator.trainable_variables)\n",
    "    generator_optimizer.apply_gradients(zip(generator_gradients, generator.trainable_variables))\n"
   ]
  },
  {
   "cell_type": "code",
   "execution_count": 25,
   "id": "211ec2d0",
   "metadata": {
    "execution": {
     "iopub.execute_input": "2025-06-08T17:37:41.000556Z",
     "iopub.status.busy": "2025-06-08T17:37:40.999902Z",
     "iopub.status.idle": "2025-06-08T17:37:41.004770Z",
     "shell.execute_reply": "2025-06-08T17:37:41.004037Z"
    },
    "id": "ZZTUmctgPD1-",
    "papermill": {
     "duration": 0.028186,
     "end_time": "2025-06-08T17:37:41.005866",
     "exception": false,
     "start_time": "2025-06-08T17:37:40.977680",
     "status": "completed"
    },
    "tags": []
   },
   "outputs": [],
   "source": [
    "def create_and_save_images(model, epoch, test_input):\n",
    "    preds = model(test_input, training=False)\n",
    "    fig = plt.figure(figsize=(4, 4))\n",
    "\n",
    "    for i in range(preds.shape[0]):\n",
    "        plt.subplot(4, 4, i + 1)\n",
    "\n",
    "        # Rescale from [-1, 1] to [0, 1]\n",
    "        img = (preds[i] + 1) / 2.0\n",
    "\n",
    "        # Display RGB image\n",
    "        plt.imshow(img)\n",
    "        plt.axis('off')\n",
    "\n",
    "    plt.savefig('img_epoch_{:04d}.png'.format(epoch))\n",
    "    plt.close(fig)  # Optional: Close figure to save memory\n"
   ]
  },
  {
   "cell_type": "code",
   "execution_count": 26,
   "id": "b009adb1",
   "metadata": {
    "execution": {
     "iopub.execute_input": "2025-06-08T17:37:41.049838Z",
     "iopub.status.busy": "2025-06-08T17:37:41.049581Z",
     "iopub.status.idle": "2025-06-08T17:37:41.054303Z",
     "shell.execute_reply": "2025-06-08T17:37:41.053638Z"
    },
    "id": "HKihAfCRPIlC",
    "papermill": {
     "duration": 0.027775,
     "end_time": "2025-06-08T17:37:41.055374",
     "exception": false,
     "start_time": "2025-06-08T17:37:41.027599",
     "status": "completed"
    },
    "tags": []
   },
   "outputs": [],
   "source": [
    "def train(dataset, epochs):\n",
    "    for epoch in range(epochs):\n",
    "        start_time = time.time()\n",
    "\n",
    "        for img_batch in dataset:\n",
    "            if len(img_batch) == batch_size:\n",
    "                training_step(img_batch)\n",
    "\n",
    "        # Save generated images for this epoch\n",
    "        create_and_save_images(generator, epoch + 1, seed)\n",
    "\n",
    "        # Save model checkpoint every 10 epochs\n",
    "        if (epoch + 1) % 10 == 0:\n",
    "            checkpoint.save(file_prefix=checkpoint_prefix)\n",
    "\n",
    "        print(f'Time taken to process epoch {epoch + 1} was {time.time() - start_time:.2f} seconds')\n",
    "\n",
    "    # Final image and model saving after training ends\n",
    "    create_and_save_images(generator, epochs, seed)\n",
    "    generator.save('generator.h5')\n"
   ]
  },
  {
   "cell_type": "code",
   "execution_count": 27,
   "id": "2d247c38",
   "metadata": {
    "execution": {
     "iopub.execute_input": "2025-06-08T17:37:41.099836Z",
     "iopub.status.busy": "2025-06-08T17:37:41.099312Z",
     "iopub.status.idle": "2025-06-08T21:55:07.098979Z",
     "shell.execute_reply": "2025-06-08T21:55:07.098352Z"
    },
    "id": "nhIhEItwPKUd",
    "outputId": "b1b5f6fa-6866-4a06-e374-e60b0afb0812",
    "papermill": {
     "duration": 15446.023384,
     "end_time": "2025-06-08T21:55:07.100494",
     "exception": false,
     "start_time": "2025-06-08T17:37:41.077110",
     "status": "completed"
    },
    "tags": []
   },
   "outputs": [
    {
     "name": "stdout",
     "output_type": "stream",
     "text": [
      "Time taken to process epoch 1 was 533.88 seconds\n",
      "Time taken to process epoch 2 was 520.92 seconds\n",
      "Time taken to process epoch 3 was 520.70 seconds\n",
      "Time taken to process epoch 4 was 519.39 seconds\n",
      "Time taken to process epoch 5 was 519.73 seconds\n",
      "Time taken to process epoch 6 was 511.44 seconds\n",
      "Time taken to process epoch 7 was 511.07 seconds\n",
      "Time taken to process epoch 8 was 508.91 seconds\n",
      "Time taken to process epoch 9 was 509.85 seconds\n",
      "Time taken to process epoch 10 was 510.69 seconds\n",
      "Time taken to process epoch 11 was 511.92 seconds\n",
      "Time taken to process epoch 12 was 510.58 seconds\n",
      "Time taken to process epoch 13 was 510.92 seconds\n",
      "Time taken to process epoch 14 was 510.93 seconds\n",
      "Time taken to process epoch 15 was 509.02 seconds\n",
      "Time taken to process epoch 16 was 514.28 seconds\n",
      "Time taken to process epoch 17 was 512.80 seconds\n",
      "Time taken to process epoch 18 was 509.51 seconds\n",
      "Time taken to process epoch 19 was 510.08 seconds\n",
      "Time taken to process epoch 20 was 511.59 seconds\n",
      "Time taken to process epoch 21 was 510.53 seconds\n",
      "Time taken to process epoch 22 was 512.16 seconds\n",
      "Time taken to process epoch 23 was 509.76 seconds\n",
      "Time taken to process epoch 24 was 513.16 seconds\n",
      "Time taken to process epoch 25 was 512.96 seconds\n",
      "Time taken to process epoch 26 was 511.13 seconds\n",
      "Time taken to process epoch 27 was 513.60 seconds\n",
      "Time taken to process epoch 28 was 523.46 seconds\n",
      "Time taken to process epoch 29 was 528.53 seconds\n",
      "Time taken to process epoch 30 was 532.03 seconds\n"
     ]
    }
   ],
   "source": [
    "train(X_train, epochs)"
   ]
  },
  {
   "cell_type": "code",
   "execution_count": 28,
   "id": "e63b5579",
   "metadata": {
    "execution": {
     "iopub.execute_input": "2025-06-08T21:55:07.149258Z",
     "iopub.status.busy": "2025-06-08T21:55:07.148789Z",
     "iopub.status.idle": "2025-06-08T21:55:07.512842Z",
     "shell.execute_reply": "2025-06-08T21:55:07.512192Z"
    },
    "id": "m_2UAKmnPOF7",
    "papermill": {
     "duration": 0.389717,
     "end_time": "2025-06-08T21:55:07.514074",
     "exception": false,
     "start_time": "2025-06-08T21:55:07.124357",
     "status": "completed"
    },
    "tags": []
   },
   "outputs": [
    {
     "data": {
      "text/plain": [
       "<tensorflow.python.checkpoint.checkpoint.CheckpointLoadStatus at 0x7bd17bf35fd0>"
      ]
     },
     "execution_count": 28,
     "metadata": {},
     "output_type": "execute_result"
    }
   ],
   "source": [
    "checkpoint.restore(tf.train.latest_checkpoint(checkpoint_dir))"
   ]
  },
  {
   "cell_type": "code",
   "execution_count": null,
   "id": "7a092420",
   "metadata": {
    "id": "9t_boL-oPRzO",
    "papermill": {
     "duration": 0.023524,
     "end_time": "2025-06-08T21:55:07.562024",
     "exception": false,
     "start_time": "2025-06-08T21:55:07.538500",
     "status": "completed"
    },
    "tags": []
   },
   "outputs": [],
   "source": []
  }
 ],
 "metadata": {
  "accelerator": "GPU",
  "colab": {
   "gpuType": "T4",
   "provenance": []
  },
  "kaggle": {
   "accelerator": "gpu",
   "dataSources": [
    {
     "datasetId": 29561,
     "sourceId": 37705,
     "sourceType": "datasetVersion"
    }
   ],
   "dockerImageVersionId": 31040,
   "isGpuEnabled": true,
   "isInternetEnabled": true,
   "language": "python",
   "sourceType": "notebook"
  },
  "kernelspec": {
   "display_name": "Python 3",
   "language": "python",
   "name": "python3"
  },
  "language_info": {
   "codemirror_mode": {
    "name": "ipython",
    "version": 3
   },
   "file_extension": ".py",
   "mimetype": "text/x-python",
   "name": "python",
   "nbconvert_exporter": "python",
   "pygments_lexer": "ipython3",
   "version": "3.11.11"
  },
  "papermill": {
   "default_parameters": {},
   "duration": 15523.701184,
   "end_time": "2025-06-08T21:55:10.315223",
   "environment_variables": {},
   "exception": null,
   "input_path": "__notebook__.ipynb",
   "output_path": "__notebook__.ipynb",
   "parameters": {},
   "start_time": "2025-06-08T17:36:26.614039",
   "version": "2.6.0"
  }
 },
 "nbformat": 4,
 "nbformat_minor": 5
}
